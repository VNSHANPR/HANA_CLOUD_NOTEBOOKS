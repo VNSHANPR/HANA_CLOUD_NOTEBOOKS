{
 "cells": [
  {
   "cell_type": "markdown",
   "metadata": {},
   "source": [
    "# Fraud Classification - Introduction to Python wrapper for SAP HANA\n",
    "\n",
    "<BR><BR>The purpose of this notebook is for you to become familiar with the most important steps to train a Machine Learning model in SAP HANA through Python."
   ]
  },
  {
   "cell_type": "markdown",
   "metadata": {},
   "source": [
    "### Steps in this notebook\n",
    "-  Connect to SAP HANA\n",
    "-  Create a SAP HANA DataFrame which points to the data\n",
    "-  Take a brief look at the data\n",
    "-  Deal with missing values by ignoring all rows that are not complete\n",
    "-  Train a Descision Tree in SAP HANA to classify whether a transaction is fraud based on very limited features\n",
    "\n",
    "### Documentation\n",
    "-  SAP HANA Python Client API for Machine Learning Algorithms:   \n",
    "   https://help.sap.com/doc/0172e3957b5946da85d3fde85ee8f33d/latest/en-US/html/hana_ml.html\n",
    "-  SAP HANA Predictive Analysis Library (PAL):  \n",
    "   https://help.sap.com/viewer/319d36de4fd64ac3afbf91b1fb3ce8de/cloud/en-US\n",
    "-  SAP HANA Automated Predictive Library (APL):\n",
    "   https://help.sap.com/viewer/product/apl/2018/en-US"
   ]
  },
  {
   "cell_type": "markdown",
   "metadata": {},
   "source": [
    "### Create a SAP HANA DataFrame, which points to the training data\n",
    "Instantiate a connecton object to SAP HANA.\n",
    "-  For simplicity, to help you get started, these values are hardcoded here. \n",
    "-  We recommend keeping these credentials in the Secure User Store of the SAP HANA Client. Retrieving the credentials from the Secure User Store prevents having to specify these credentials in clear text. See the blog on the SAP Commmunity to which these notebooks belong, for steps on how to use that Secure User Store."
   ]
  },
  {
   "cell_type": "code",
   "execution_count": 1,
   "metadata": {},
   "outputs": [],
   "source": [
    "import hana_ml.dataframe as dataframe\n",
    "conn = dataframe.ConnectionContext(userkey = 'DEFAULT', encrypt = 'true',sslValidateCertificate = 'false')"
   ]
  },
  {
   "cell_type": "markdown",
   "metadata": {},
   "source": [
    "Create the SAP HANA DataFrame, which points to the table with historic sales. No data is extracted."
   ]
  },
  {
   "cell_type": "code",
   "execution_count": 2,
   "metadata": {},
   "outputs": [],
   "source": [
    "# Create the HANA dataframe in the structure of the specified table\n",
    "df_pushdown = conn.table(table = 'VT_CARD_TRANSACTIONS', schema = 'SOURCEDATA')"
   ]
  },
  {
   "cell_type": "markdown",
   "metadata": {},
   "source": [
    "### Peek at the data and retrieve a small number of rows\n",
    "Notice how no data is displayed, when calling the HANA DataFrame. You will only see the object type: hana_ml.dataframe.DataFrame. At the top of this page you find a link to the SAP HANA Python Client API documentation, where you find all details about the hana_ml package."
   ]
  },
  {
   "cell_type": "code",
   "execution_count": 3,
   "metadata": {},
   "outputs": [
    {
     "data": {
      "text/plain": [
       "<hana_ml.dataframe.DataFrame at 0x7f7538c4d460>"
      ]
     },
     "execution_count": 3,
     "metadata": {},
     "output_type": "execute_result"
    }
   ],
   "source": [
    "df_pushdown"
   ]
  },
  {
   "cell_type": "markdown",
   "metadata": {},
   "source": [
    "To retrieve data into Python, you need to call the collect() function on the DataFrame object. In order to reduce the number of rows that are retrieved, use the head() function beforehand."
   ]
  },
  {
   "cell_type": "code",
   "execution_count": 4,
   "metadata": {},
   "outputs": [
    {
     "data": {
      "text/html": [
       "<div>\n",
       "<style scoped>\n",
       "    .dataframe tbody tr th:only-of-type {\n",
       "        vertical-align: middle;\n",
       "    }\n",
       "\n",
       "    .dataframe tbody tr th {\n",
       "        vertical-align: top;\n",
       "    }\n",
       "\n",
       "    .dataframe thead th {\n",
       "        text-align: right;\n",
       "    }\n",
       "</style>\n",
       "<table border=\"1\" class=\"dataframe\">\n",
       "  <thead>\n",
       "    <tr style=\"text-align: right;\">\n",
       "      <th></th>\n",
       "      <th>CT_ID</th>\n",
       "      <th>CT_DATE</th>\n",
       "      <th>CT_CARD_ID</th>\n",
       "      <th>CT_CUST_ID</th>\n",
       "      <th>CT_MER_ID</th>\n",
       "      <th>CT_AMOUNT</th>\n",
       "      <th>CT_FEE</th>\n",
       "      <th>CT_FLAG_FRAUD</th>\n",
       "      <th>CT_STATUS</th>\n",
       "      <th>CT_DAYDATE</th>\n",
       "    </tr>\n",
       "  </thead>\n",
       "  <tbody>\n",
       "    <tr>\n",
       "      <th>0</th>\n",
       "      <td>100014490</td>\n",
       "      <td>2019-01-01 10:00:00</td>\n",
       "      <td>191822</td>\n",
       "      <td>191822</td>\n",
       "      <td>10927</td>\n",
       "      <td>20.2</td>\n",
       "      <td>0.22</td>\n",
       "      <td>0</td>\n",
       "      <td>1</td>\n",
       "      <td>2019-01-01</td>\n",
       "    </tr>\n",
       "    <tr>\n",
       "      <th>1</th>\n",
       "      <td>100018101</td>\n",
       "      <td>2019-01-01 11:00:00</td>\n",
       "      <td>892569</td>\n",
       "      <td>892569</td>\n",
       "      <td>9409</td>\n",
       "      <td>20.2</td>\n",
       "      <td>0.22</td>\n",
       "      <td>0</td>\n",
       "      <td>1</td>\n",
       "      <td>2019-01-01</td>\n",
       "    </tr>\n",
       "    <tr>\n",
       "      <th>2</th>\n",
       "      <td>100048748</td>\n",
       "      <td>2019-01-01 22:00:00</td>\n",
       "      <td>450286</td>\n",
       "      <td>450286</td>\n",
       "      <td>8354</td>\n",
       "      <td>21.2</td>\n",
       "      <td>0.22</td>\n",
       "      <td>0</td>\n",
       "      <td>1</td>\n",
       "      <td>2019-01-01</td>\n",
       "    </tr>\n",
       "  </tbody>\n",
       "</table>\n",
       "</div>"
      ],
      "text/plain": [
       "       CT_ID             CT_DATE  CT_CARD_ID  CT_CUST_ID  CT_MER_ID CT_AMOUNT  \\\n",
       "0  100014490 2019-01-01 10:00:00      191822      191822      10927      20.2   \n",
       "1  100018101 2019-01-01 11:00:00      892569      892569       9409      20.2   \n",
       "2  100048748 2019-01-01 22:00:00      450286      450286       8354      21.2   \n",
       "\n",
       "  CT_FEE  CT_FLAG_FRAUD  CT_STATUS  CT_DAYDATE  \n",
       "0   0.22              0          1  2019-01-01  \n",
       "1   0.22              0          1  2019-01-01  \n",
       "2   0.22              0          1  2019-01-01  "
      ]
     },
     "execution_count": 4,
     "metadata": {},
     "output_type": "execute_result"
    }
   ],
   "source": [
    "df_pushdown.head(3).collect()"
   ]
  },
  {
   "cell_type": "markdown",
   "metadata": {},
   "source": [
    "### Descriptive statistics \n",
    "Display most important data column statistics. All values were calculated within SAP HANA. Notice how some columns have null values. These are rows with missing values.\n",
    "\n",
    "Note: If we run the describe operation on the entire virtual dataset of 32M transactions, it might run for a few minutes. "
   ]
  },
  {
   "cell_type": "code",
   "execution_count": 5,
   "metadata": {},
   "outputs": [],
   "source": [
    "# To reduce the amount of time that the describe operation runs, we will run it on 100k transactions\n",
    "df_pushdown_100k = conn.sql(\"select * from SOURCEDATA.VT_CARD_TRANSACTIONS limit 100000\")"
   ]
  },
  {
   "cell_type": "code",
   "execution_count": 6,
   "metadata": {},
   "outputs": [
    {
     "data": {
      "text/html": [
       "<div>\n",
       "<style scoped>\n",
       "    .dataframe tbody tr th:only-of-type {\n",
       "        vertical-align: middle;\n",
       "    }\n",
       "\n",
       "    .dataframe tbody tr th {\n",
       "        vertical-align: top;\n",
       "    }\n",
       "\n",
       "    .dataframe thead th {\n",
       "        text-align: right;\n",
       "    }\n",
       "</style>\n",
       "<table border=\"1\" class=\"dataframe\">\n",
       "  <thead>\n",
       "    <tr style=\"text-align: right;\">\n",
       "      <th></th>\n",
       "      <th>column</th>\n",
       "      <th>count</th>\n",
       "      <th>unique</th>\n",
       "      <th>nulls</th>\n",
       "      <th>mean</th>\n",
       "      <th>std</th>\n",
       "      <th>min</th>\n",
       "      <th>max</th>\n",
       "      <th>median</th>\n",
       "      <th>25_percent_cont</th>\n",
       "      <th>25_percent_disc</th>\n",
       "      <th>50_percent_cont</th>\n",
       "      <th>50_percent_disc</th>\n",
       "      <th>75_percent_cont</th>\n",
       "      <th>75_percent_disc</th>\n",
       "    </tr>\n",
       "  </thead>\n",
       "  <tbody>\n",
       "    <tr>\n",
       "      <th>0</th>\n",
       "      <td>CT_ID</td>\n",
       "      <td>100000</td>\n",
       "      <td>100000</td>\n",
       "      <td>0</td>\n",
       "      <td>1.166836e+08</td>\n",
       "      <td>9.380633e+06</td>\n",
       "      <td>1.000000e+08</td>\n",
       "      <td>1.329260e+08</td>\n",
       "      <td>1.167734e+08</td>\n",
       "      <td>1.086068e+08</td>\n",
       "      <td>1.086068e+08</td>\n",
       "      <td>1.167734e+08</td>\n",
       "      <td>1.167733e+08</td>\n",
       "      <td>1.247699e+08</td>\n",
       "      <td>1.247697e+08</td>\n",
       "    </tr>\n",
       "    <tr>\n",
       "      <th>1</th>\n",
       "      <td>CT_CARD_ID</td>\n",
       "      <td>100000</td>\n",
       "      <td>85871</td>\n",
       "      <td>0</td>\n",
       "      <td>3.393295e+05</td>\n",
       "      <td>2.644706e+05</td>\n",
       "      <td>1.000050e+05</td>\n",
       "      <td>9.999450e+05</td>\n",
       "      <td>1.966440e+05</td>\n",
       "      <td>1.483418e+05</td>\n",
       "      <td>1.483410e+05</td>\n",
       "      <td>1.966435e+05</td>\n",
       "      <td>1.966430e+05</td>\n",
       "      <td>5.157755e+05</td>\n",
       "      <td>5.157710e+05</td>\n",
       "    </tr>\n",
       "    <tr>\n",
       "      <th>2</th>\n",
       "      <td>CT_CUST_ID</td>\n",
       "      <td>100000</td>\n",
       "      <td>85871</td>\n",
       "      <td>0</td>\n",
       "      <td>3.393295e+05</td>\n",
       "      <td>2.644706e+05</td>\n",
       "      <td>1.000050e+05</td>\n",
       "      <td>9.999450e+05</td>\n",
       "      <td>1.966440e+05</td>\n",
       "      <td>1.483418e+05</td>\n",
       "      <td>1.483410e+05</td>\n",
       "      <td>1.966435e+05</td>\n",
       "      <td>1.966430e+05</td>\n",
       "      <td>5.157755e+05</td>\n",
       "      <td>5.157710e+05</td>\n",
       "    </tr>\n",
       "    <tr>\n",
       "      <th>3</th>\n",
       "      <td>CT_MER_ID</td>\n",
       "      <td>100000</td>\n",
       "      <td>31783</td>\n",
       "      <td>0</td>\n",
       "      <td>1.773608e+04</td>\n",
       "      <td>1.382750e+04</td>\n",
       "      <td>5.201000e+03</td>\n",
       "      <td>5.200700e+04</td>\n",
       "      <td>1.024300e+04</td>\n",
       "      <td>7.698000e+03</td>\n",
       "      <td>7.698000e+03</td>\n",
       "      <td>1.024300e+04</td>\n",
       "      <td>1.024300e+04</td>\n",
       "      <td>2.700800e+04</td>\n",
       "      <td>2.700800e+04</td>\n",
       "    </tr>\n",
       "    <tr>\n",
       "      <th>4</th>\n",
       "      <td>CT_AMOUNT</td>\n",
       "      <td>100000</td>\n",
       "      <td>167</td>\n",
       "      <td>0</td>\n",
       "      <td>2.118055e+01</td>\n",
       "      <td>3.300000e-01</td>\n",
       "      <td>7.000000e+00</td>\n",
       "      <td>2.171000e+01</td>\n",
       "      <td>2.120000e+01</td>\n",
       "      <td>2.120000e+01</td>\n",
       "      <td>2.120000e+01</td>\n",
       "      <td>2.120000e+01</td>\n",
       "      <td>2.120000e+01</td>\n",
       "      <td>2.121000e+01</td>\n",
       "      <td>2.121000e+01</td>\n",
       "    </tr>\n",
       "    <tr>\n",
       "      <th>5</th>\n",
       "      <td>CT_FEE</td>\n",
       "      <td>100000</td>\n",
       "      <td>1</td>\n",
       "      <td>0</td>\n",
       "      <td>2.200000e-01</td>\n",
       "      <td>0.000000e+00</td>\n",
       "      <td>2.200000e-01</td>\n",
       "      <td>2.200000e-01</td>\n",
       "      <td>2.200000e-01</td>\n",
       "      <td>2.200000e-01</td>\n",
       "      <td>2.200000e-01</td>\n",
       "      <td>2.200000e-01</td>\n",
       "      <td>2.200000e-01</td>\n",
       "      <td>2.200000e-01</td>\n",
       "      <td>2.200000e-01</td>\n",
       "    </tr>\n",
       "    <tr>\n",
       "      <th>6</th>\n",
       "      <td>CT_FLAG_FRAUD</td>\n",
       "      <td>100000</td>\n",
       "      <td>1</td>\n",
       "      <td>0</td>\n",
       "      <td>0.000000e+00</td>\n",
       "      <td>0.000000e+00</td>\n",
       "      <td>0.000000e+00</td>\n",
       "      <td>0.000000e+00</td>\n",
       "      <td>0.000000e+00</td>\n",
       "      <td>0.000000e+00</td>\n",
       "      <td>0.000000e+00</td>\n",
       "      <td>0.000000e+00</td>\n",
       "      <td>0.000000e+00</td>\n",
       "      <td>0.000000e+00</td>\n",
       "      <td>0.000000e+00</td>\n",
       "    </tr>\n",
       "    <tr>\n",
       "      <th>7</th>\n",
       "      <td>CT_STATUS</td>\n",
       "      <td>100000</td>\n",
       "      <td>1</td>\n",
       "      <td>0</td>\n",
       "      <td>1.000000e+00</td>\n",
       "      <td>0.000000e+00</td>\n",
       "      <td>1.000000e+00</td>\n",
       "      <td>1.000000e+00</td>\n",
       "      <td>1.000000e+00</td>\n",
       "      <td>1.000000e+00</td>\n",
       "      <td>1.000000e+00</td>\n",
       "      <td>1.000000e+00</td>\n",
       "      <td>1.000000e+00</td>\n",
       "      <td>1.000000e+00</td>\n",
       "      <td>1.000000e+00</td>\n",
       "    </tr>\n",
       "    <tr>\n",
       "      <th>8</th>\n",
       "      <td>CT_DATE</td>\n",
       "      <td>100000</td>\n",
       "      <td>94107</td>\n",
       "      <td>0</td>\n",
       "      <td>NaN</td>\n",
       "      <td>NaN</td>\n",
       "      <td>NaN</td>\n",
       "      <td>NaN</td>\n",
       "      <td>NaN</td>\n",
       "      <td>NaN</td>\n",
       "      <td>NaN</td>\n",
       "      <td>NaN</td>\n",
       "      <td>NaN</td>\n",
       "      <td>NaN</td>\n",
       "      <td>NaN</td>\n",
       "    </tr>\n",
       "    <tr>\n",
       "      <th>9</th>\n",
       "      <td>CT_DAYDATE</td>\n",
       "      <td>100000</td>\n",
       "      <td>605</td>\n",
       "      <td>0</td>\n",
       "      <td>NaN</td>\n",
       "      <td>NaN</td>\n",
       "      <td>NaN</td>\n",
       "      <td>NaN</td>\n",
       "      <td>NaN</td>\n",
       "      <td>NaN</td>\n",
       "      <td>NaN</td>\n",
       "      <td>NaN</td>\n",
       "      <td>NaN</td>\n",
       "      <td>NaN</td>\n",
       "      <td>NaN</td>\n",
       "    </tr>\n",
       "  </tbody>\n",
       "</table>\n",
       "</div>"
      ],
      "text/plain": [
       "          column   count  unique  nulls          mean           std  \\\n",
       "0          CT_ID  100000  100000      0  1.166836e+08  9.380633e+06   \n",
       "1     CT_CARD_ID  100000   85871      0  3.393295e+05  2.644706e+05   \n",
       "2     CT_CUST_ID  100000   85871      0  3.393295e+05  2.644706e+05   \n",
       "3      CT_MER_ID  100000   31783      0  1.773608e+04  1.382750e+04   \n",
       "4      CT_AMOUNT  100000     167      0  2.118055e+01  3.300000e-01   \n",
       "5         CT_FEE  100000       1      0  2.200000e-01  0.000000e+00   \n",
       "6  CT_FLAG_FRAUD  100000       1      0  0.000000e+00  0.000000e+00   \n",
       "7      CT_STATUS  100000       1      0  1.000000e+00  0.000000e+00   \n",
       "8        CT_DATE  100000   94107      0           NaN           NaN   \n",
       "9     CT_DAYDATE  100000     605      0           NaN           NaN   \n",
       "\n",
       "            min           max        median  25_percent_cont  25_percent_disc  \\\n",
       "0  1.000000e+08  1.329260e+08  1.167734e+08     1.086068e+08     1.086068e+08   \n",
       "1  1.000050e+05  9.999450e+05  1.966440e+05     1.483418e+05     1.483410e+05   \n",
       "2  1.000050e+05  9.999450e+05  1.966440e+05     1.483418e+05     1.483410e+05   \n",
       "3  5.201000e+03  5.200700e+04  1.024300e+04     7.698000e+03     7.698000e+03   \n",
       "4  7.000000e+00  2.171000e+01  2.120000e+01     2.120000e+01     2.120000e+01   \n",
       "5  2.200000e-01  2.200000e-01  2.200000e-01     2.200000e-01     2.200000e-01   \n",
       "6  0.000000e+00  0.000000e+00  0.000000e+00     0.000000e+00     0.000000e+00   \n",
       "7  1.000000e+00  1.000000e+00  1.000000e+00     1.000000e+00     1.000000e+00   \n",
       "8           NaN           NaN           NaN              NaN              NaN   \n",
       "9           NaN           NaN           NaN              NaN              NaN   \n",
       "\n",
       "   50_percent_cont  50_percent_disc  75_percent_cont  75_percent_disc  \n",
       "0     1.167734e+08     1.167733e+08     1.247699e+08     1.247697e+08  \n",
       "1     1.966435e+05     1.966430e+05     5.157755e+05     5.157710e+05  \n",
       "2     1.966435e+05     1.966430e+05     5.157755e+05     5.157710e+05  \n",
       "3     1.024300e+04     1.024300e+04     2.700800e+04     2.700800e+04  \n",
       "4     2.120000e+01     2.120000e+01     2.121000e+01     2.121000e+01  \n",
       "5     2.200000e-01     2.200000e-01     2.200000e-01     2.200000e-01  \n",
       "6     0.000000e+00     0.000000e+00     0.000000e+00     0.000000e+00  \n",
       "7     1.000000e+00     1.000000e+00     1.000000e+00     1.000000e+00  \n",
       "8              NaN              NaN              NaN              NaN  \n",
       "9              NaN              NaN              NaN              NaN  "
      ]
     },
     "execution_count": 6,
     "metadata": {},
     "output_type": "execute_result"
    }
   ],
   "source": [
    "df_pushdown_100k.describe().collect()"
   ]
  },
  {
   "cell_type": "markdown",
   "metadata": {},
   "source": [
    "We can focus on the subset of data that we want to use for training our model. One month of transactions might be enough."
   ]
  },
  {
   "cell_type": "code",
   "execution_count": 7,
   "metadata": {},
   "outputs": [
    {
     "data": {
      "text/html": [
       "<div>\n",
       "<style scoped>\n",
       "    .dataframe tbody tr th:only-of-type {\n",
       "        vertical-align: middle;\n",
       "    }\n",
       "\n",
       "    .dataframe tbody tr th {\n",
       "        vertical-align: top;\n",
       "    }\n",
       "\n",
       "    .dataframe thead th {\n",
       "        text-align: right;\n",
       "    }\n",
       "</style>\n",
       "<table border=\"1\" class=\"dataframe\">\n",
       "  <thead>\n",
       "    <tr style=\"text-align: right;\">\n",
       "      <th></th>\n",
       "      <th>TXNS</th>\n",
       "      <th>CUSTOMERS</th>\n",
       "      <th>MERCHANTS</th>\n",
       "    </tr>\n",
       "  </thead>\n",
       "  <tbody>\n",
       "    <tr>\n",
       "      <th>0</th>\n",
       "      <td>1689500</td>\n",
       "      <td>566689</td>\n",
       "      <td>46808</td>\n",
       "    </tr>\n",
       "  </tbody>\n",
       "</table>\n",
       "</div>"
      ],
      "text/plain": [
       "      TXNS  CUSTOMERS  MERCHANTS\n",
       "0  1689500     566689      46808"
      ]
     },
     "execution_count": 7,
     "metadata": {},
     "output_type": "execute_result"
    }
   ],
   "source": [
    "conn.sql(\"select count(*) as TXNS, count(distinct CT_CUST_ID) as CUSTOMERS, count(distinct CT_MER_ID) as MERCHANTS from SOURCEDATA.VT_CARD_TRANSACTIONS where CT_DAYDATE >= '2020-07-01' and CT_DAYDATE < '2020-08-01'\").collect()"
   ]
  },
  {
   "cell_type": "code",
   "execution_count": 8,
   "metadata": {},
   "outputs": [],
   "source": [
    "df_pushdown = conn.sql(\"select * from SOURCEDATA.VT_CARD_TRANSACTIONS where CT_DAYDATE >= '2020-07-01' and CT_DAYDATE < '2020-08-01'\")"
   ]
  },
  {
   "cell_type": "markdown",
   "metadata": {},
   "source": [
    "### Plot number of transactions by fraud class\n",
    "The hana_ml package can also create a number of plots, whose underlying data was calculated within SAP HANA. For more specific requirements you can also push down further calculations to SAP HANA and retrieve the result with the collect() function as pandas data frame to create your own plot. Now display the number of transactions by the fraud flag."
   ]
  },
  {
   "cell_type": "code",
   "execution_count": 9,
   "metadata": {},
   "outputs": [
    {
     "data": {
      "image/png": "[encoded data removed]",
      "text/plain": [
       "<Figure size 432x288 with 1 Axes>"
      ]
     },
     "metadata": {
      "needs_background": "light"
     },
     "output_type": "display_data"
    }
   ],
   "source": [
    "%matplotlib inline\n",
    "from hana_ml.visualizers.eda import EDAVisualizer\n",
    "import matplotlib.pyplot as plt\n",
    "f = plt.figure()\n",
    "ax1 = f.add_subplot(111) # 111 refers to 1x1 grid, 1st subplot\n",
    "eda = EDAVisualizer(ax1)\n",
    "ax, bar_data = eda.bar_plot(data = df_pushdown,\n",
    "                            column = 'CT_FLAG_FRAUD', \n",
    "                            aggregation = {'CT_FLAG_FRAUD':'count'},\n",
    "                            title = 'Number of transactions by fraud flag')"
   ]
  },
  {
   "cell_type": "code",
   "execution_count": 10,
   "metadata": {},
   "outputs": [],
   "source": [
    "amounts = conn.sql(\"Select CT_AMOUNT from SOURCEDATA.VT_CARD_TRANSACTIONS where CT_DAYDATE >= '2020-07-01' and CT_DAYDATE < '2020-08-01'\").collect()"
   ]
  },
  {
   "cell_type": "code",
   "execution_count": 11,
   "metadata": {},
   "outputs": [
    {
     "data": {
      "text/html": [
       "<div>\n",
       "<style scoped>\n",
       "    .dataframe tbody tr th:only-of-type {\n",
       "        vertical-align: middle;\n",
       "    }\n",
       "\n",
       "    .dataframe tbody tr th {\n",
       "        vertical-align: top;\n",
       "    }\n",
       "\n",
       "    .dataframe thead th {\n",
       "        text-align: right;\n",
       "    }\n",
       "</style>\n",
       "<table border=\"1\" class=\"dataframe\">\n",
       "  <thead>\n",
       "    <tr style=\"text-align: right;\">\n",
       "      <th></th>\n",
       "      <th>CT_AMOUNT</th>\n",
       "    </tr>\n",
       "  </thead>\n",
       "  <tbody>\n",
       "    <tr>\n",
       "      <th>0</th>\n",
       "      <td>21.2</td>\n",
       "    </tr>\n",
       "    <tr>\n",
       "      <th>1</th>\n",
       "      <td>21.2</td>\n",
       "    </tr>\n",
       "    <tr>\n",
       "      <th>2</th>\n",
       "      <td>21.2</td>\n",
       "    </tr>\n",
       "    <tr>\n",
       "      <th>3</th>\n",
       "      <td>21.2</td>\n",
       "    </tr>\n",
       "    <tr>\n",
       "      <th>4</th>\n",
       "      <td>21.2</td>\n",
       "    </tr>\n",
       "  </tbody>\n",
       "</table>\n",
       "</div>"
      ],
      "text/plain": [
       "  CT_AMOUNT\n",
       "0      21.2\n",
       "1      21.2\n",
       "2      21.2\n",
       "3      21.2\n",
       "4      21.2"
      ]
     },
     "execution_count": 11,
     "metadata": {},
     "output_type": "execute_result"
    }
   ],
   "source": [
    "amounts.head()"
   ]
  },
  {
   "cell_type": "code",
   "execution_count": 12,
   "metadata": {},
   "outputs": [
    {
     "data": {
      "text/plain": [
       "pandas.core.frame.DataFrame"
      ]
     },
     "execution_count": 12,
     "metadata": {},
     "output_type": "execute_result"
    }
   ],
   "source": [
    "type(amounts)"
   ]
  },
  {
   "cell_type": "code",
   "execution_count": 13,
   "metadata": {},
   "outputs": [
    {
     "data": {
      "text/plain": [
       "CT_AMOUNT    object\n",
       "dtype: object"
      ]
     },
     "execution_count": 13,
     "metadata": {},
     "output_type": "execute_result"
    }
   ],
   "source": [
    "amounts.dtypes"
   ]
  },
  {
   "cell_type": "code",
   "execution_count": 14,
   "metadata": {},
   "outputs": [
    {
     "data": {
      "text/plain": [
       "<matplotlib.axes._subplots.AxesSubplot at 0x7f750f80d3a0>"
      ]
     },
     "execution_count": 14,
     "metadata": {},
     "output_type": "execute_result"
    },
    {
     "data": {
      "image/png": "[encoded data removed]",
      "text/plain": [
       "<Figure size 432x288 with 1 Axes>"
      ]
     },
     "metadata": {
      "needs_background": "light"
     },
     "output_type": "display_data"
    }
   ],
   "source": [
    "import pandas as pd\n",
    "pd.to_numeric(amounts.CT_AMOUNT).plot.hist(grid=True, bins=100, rwidth=0.9, color='#607c8e')"
   ]
  },
  {
   "cell_type": "markdown",
   "metadata": {},
   "source": [
    "### Drop rows with missing values \n",
    "Many algorithms require the data to be complete without missing values. Descriptive statistics above showed that various columns miss data. There are various options to deal with such missing values, ie to impute or remove the row or column. In the following notebook we will impute. In this introductory example we remove the rows with missing values from the SAP HANA Data Frame.\n",
    "<BR><BR>The rows are not removed from the physical table. They are dropped from the logical construct of the SAP HANA Data Frame. Hence any process or application that might be using the underlying data is not affected."
   ]
  },
  {
   "cell_type": "code",
   "execution_count": 15,
   "metadata": {},
   "outputs": [],
   "source": [
    "df_pushdown = df_pushdown.dropna()"
   ]
  },
  {
   "cell_type": "markdown",
   "metadata": {},
   "source": [
    "The SAP HANA Data Frame's SELECT statement shows how the rows with missing values were filtered out."
   ]
  },
  {
   "cell_type": "code",
   "execution_count": 16,
   "metadata": {},
   "outputs": [
    {
     "data": {
      "text/plain": [
       "'SELECT * FROM (select * from SOURCEDATA.VT_CARD_TRANSACTIONS where CT_DAYDATE >= \\'2020-07-01\\' and CT_DAYDATE < \\'2020-08-01\\') AS \"DT_5\" WHERE NOT (\"CT_ID\" IS NULL OR \"CT_DATE\" IS NULL OR \"CT_CARD_ID\" IS NULL OR \"CT_CUST_ID\" IS NULL OR \"CT_MER_ID\" IS NULL OR \"CT_AMOUNT\" IS NULL OR \"CT_FEE\" IS NULL OR \"CT_FLAG_FRAUD\" IS NULL OR \"CT_STATUS\" IS NULL OR \"CT_DAYDATE\" IS NULL)'"
      ]
     },
     "execution_count": 16,
     "metadata": {},
     "output_type": "execute_result"
    }
   ],
   "source": [
    "df_pushdown.select_statement"
   ]
  },
  {
   "cell_type": "markdown",
   "metadata": {},
   "source": [
    "### Train decision tree regression\n",
    "We will train a decision tree to classify transactions as fraud. \n",
    "\n",
    "By default, HANA PAL treats Integer and Double variables as continuous; and String variables as categorical. To classify transactions, we can cast the CT_FLAG_FRAUD variable as a string. The data type is not changed in the actual table."
   ]
  },
  {
   "cell_type": "code",
   "execution_count": 17,
   "metadata": {},
   "outputs": [],
   "source": [
    "df_pushdown = df_pushdown.cast('CT_FLAG_FRAUD', 'NVARCHAR(2)')"
   ]
  },
  {
   "cell_type": "markdown",
   "metadata": {},
   "source": [
    "Train the decision tree with some hardcoded parameters. In the following notebooks we will search for parameters that lead to a stronger models. This notebook is just introducing the basic concept of training Machine Learning models within SAP HANA."
   ]
  },
  {
   "cell_type": "code",
   "execution_count": 18,
   "metadata": {},
   "outputs": [],
   "source": [
    "from hana_ml.algorithms.pal import trees\n",
    "tree_class = trees.DecisionTreeClassifier(algorithm = 'c45',\n",
    "                                       min_records_of_parent = 10,\n",
    "                                       min_records_of_leaf = 2,\n",
    "                                       thread_ratio = 0.4,\n",
    "                                       split_threshold = 1e-5,\n",
    "                                       model_format = 'json',\n",
    "                                       output_rules = True)\n",
    "\n",
    "# Specify the tree's predictors\n",
    "features = ['CT_AMOUNT', 'CT_FEE']\n",
    "\n",
    "# Train the tree\n",
    "tree_class.fit(data = df_pushdown, \n",
    "             key = 'CT_ID', \n",
    "             label = 'CT_FLAG_FRAUD', \n",
    "             features = features)"
   ]
  },
  {
   "cell_type": "markdown",
   "metadata": {},
   "source": [
    "Once the above cell has been executed, a model has been trained. To see the DecisionTreeClassifier function's signature move the cursor into the round brackets of the function, ie place it after conn_context=conn and press SHIFT+TAB. The signature will be shown as tooltip."
   ]
  },
  {
   "cell_type": "code",
   "execution_count": 19,
   "metadata": {},
   "outputs": [
    {
     "data": {
      "text/html": [
       "<div>\n",
       "<style scoped>\n",
       "    .dataframe tbody tr th:only-of-type {\n",
       "        vertical-align: middle;\n",
       "    }\n",
       "\n",
       "    .dataframe tbody tr th {\n",
       "        vertical-align: top;\n",
       "    }\n",
       "\n",
       "    .dataframe thead th {\n",
       "        text-align: right;\n",
       "    }\n",
       "</style>\n",
       "<table border=\"1\" class=\"dataframe\">\n",
       "  <thead>\n",
       "    <tr style=\"text-align: right;\">\n",
       "      <th></th>\n",
       "      <th>ROW_INDEX</th>\n",
       "      <th>RULES_CONTENT</th>\n",
       "    </tr>\n",
       "  </thead>\n",
       "  <tbody>\n",
       "    <tr>\n",
       "      <th>0</th>\n",
       "      <td>0</td>\n",
       "      <td>(CT_FEE&lt;394.77) =&gt; 0</td>\n",
       "    </tr>\n",
       "    <tr>\n",
       "      <th>1</th>\n",
       "      <td>1</td>\n",
       "      <td>(CT_FEE&gt;=394.77) =&gt; 0</td>\n",
       "    </tr>\n",
       "  </tbody>\n",
       "</table>\n",
       "</div>"
      ],
      "text/plain": [
       "   ROW_INDEX          RULES_CONTENT\n",
       "0          0   (CT_FEE<394.77) => 0\n",
       "1          1  (CT_FEE>=394.77) => 0"
      ]
     },
     "execution_count": 19,
     "metadata": {},
     "output_type": "execute_result"
    }
   ],
   "source": [
    "tree_class.decision_rules_.collect()"
   ]
  },
  {
   "cell_type": "markdown",
   "metadata": {},
   "source": [
    "### Next"
   ]
  },
  {
   "cell_type": "markdown",
   "metadata": {},
   "source": [
    "This was just a brief introduction to the concept of the Python wrapper for SAP HANA.  In the following notebooks we will create a much stronger model!"
   ]
  },
  {
   "cell_type": "code",
   "execution_count": 20,
   "metadata": {},
   "outputs": [],
   "source": [
    "conn.close()"
   ]
  },
  {
   "cell_type": "code",
   "execution_count": null,
   "metadata": {},
   "outputs": [],
   "source": []
  }
 ],
 "metadata": {
  "createdAt": "2019-05-14T11:32:31Z",
  "description": "Introduction to the concept of the hana_ml wrapper. Optional",
  "kernelspec": {
   "display_name": "Python 3",
   "language": "python",
   "name": "python3"
  },
  "language_info": {
   "codemirror_mode": {
    "name": "ipython",
    "version": 3
   },
   "file_extension": ".py",
   "mimetype": "text/x-python",
   "name": "python",
   "nbconvert_exporter": "python",
   "pygments_lexer": "ipython3",
   "version": "3.8.3"
  },
  "modifiedAt": "2019-05-14T11:32:31Z",
  "name": "05 Introduction",
  "rating": 0,
  "scenarioId": "3bd5ee44-92b1-4224-95dc-4e688a637e85"
 },
 "nbformat": 4,
 "nbformat_minor": 4
}
