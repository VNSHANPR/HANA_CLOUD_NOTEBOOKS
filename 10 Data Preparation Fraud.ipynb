{
 "cells": [
  {
   "cell_type": "markdown",
   "metadata": {},
   "source": [
    "# Fraud Classification - Data Preparation (Optional)\n",
    "<BR><BR>The purpose of this notebook is for a Data Scientist to update amount of fraud data and create correlations between potential features (time, customer information, card information, etc.) and fraud. The PAL Partition function is used to ensure repeatable generation of data using a random number generator and partial fraud cases based on probability."
   ]
  },
  {
   "cell_type": "markdown",
   "metadata": {},
   "source": [
    "### Steps in this notebook\n",
    "-  Connect to SAP HANA\n",
    "-  Create a SAP HANA DataFrame which points to the data\n",
    "-  Take a more detailed look at the data\n",
    "-  Update the fraud flags to create more balanced dataset for classification algorithms\n",
    "\n",
    "### Documentation\n",
    "-  SAP HANA Python Client API for Machine Learning Algorithms:   \n",
    "   https://help.sap.com/doc/0172e3957b5946da85d3fde85ee8f33d/latest/en-US/html/hana_ml.html\n",
    "-  SAP HANA Predictive Analysis Library (PAL):  \n",
    "   https://help.sap.com/viewer/319d36de4fd64ac3afbf91b1fb3ce8de/cloud/en-US\n",
    "-  SAP HANA Automated Predictive Library (APL):\n",
    "   https://help.sap.com/viewer/product/apl/2018/en-US"
   ]
  },
  {
   "cell_type": "markdown",
   "metadata": {},
   "source": [
    "### Create a SAP HANA DataFrame, which points to the initial data\n",
    "Instantiate a connecton object to SAP HANA.\n",
    "-  For simplicity, to help you get started, these values are hardcoded here. \n",
    "-  We recommend keeping these credentials in the Secure User Store of the SAP HANA Client. Retrieving the credentials from the Secure User Store prevents having to specify these credentials in clear text. "
   ]
  },
  {
   "cell_type": "code",
   "execution_count": 1,
   "metadata": {},
   "outputs": [],
   "source": [
    "import hana_ml.dataframe as dataframe\n",
    "conn = dataframe.ConnectionContext(key = 'NA_POC_HANA_CLOUD', encrypt = 'true',sslValidateCertificate = 'false')"
   ]
  },
  {
   "cell_type": "markdown",
   "metadata": {},
   "source": [
    "Create the SAP HANA DataFrame, which points to the initial table. No data is extracted."
   ]
  },
  {
   "cell_type": "code",
   "execution_count": 2,
   "metadata": {},
   "outputs": [],
   "source": [
    "df_pushdown = conn.table(table = 'CARD_TRANSACTIONS_JULY_2020', schema = 'BIUSER')"
   ]
  },
  {
   "cell_type": "markdown",
   "metadata": {},
   "source": [
    "### Peek at the data and retrieve a small number of rows"
   ]
  },
  {
   "cell_type": "code",
   "execution_count": 3,
   "metadata": {},
   "outputs": [
    {
     "data": {
      "text/html": [
       "<div>\n",
       "<style scoped>\n",
       "    .dataframe tbody tr th:only-of-type {\n",
       "        vertical-align: middle;\n",
       "    }\n",
       "\n",
       "    .dataframe tbody tr th {\n",
       "        vertical-align: top;\n",
       "    }\n",
       "\n",
       "    .dataframe thead th {\n",
       "        text-align: right;\n",
       "    }\n",
       "</style>\n",
       "<table border=\"1\" class=\"dataframe\">\n",
       "  <thead>\n",
       "    <tr style=\"text-align: right;\">\n",
       "      <th></th>\n",
       "      <th>CT_ID</th>\n",
       "      <th>CT_DATE</th>\n",
       "      <th>CT_CARD_ID</th>\n",
       "      <th>CT_CUST_ID</th>\n",
       "      <th>CT_MER_ID</th>\n",
       "      <th>CT_AMOUNT</th>\n",
       "      <th>CT_FEE</th>\n",
       "      <th>CT_FLAG_FRAUD</th>\n",
       "      <th>CT_STATUS</th>\n",
       "      <th>CT_DAYDATE</th>\n",
       "    </tr>\n",
       "  </thead>\n",
       "  <tbody>\n",
       "    <tr>\n",
       "      <th>0</th>\n",
       "      <td>129814245</td>\n",
       "      <td>2020-07-01 05:09:28</td>\n",
       "      <td>184460</td>\n",
       "      <td>184460</td>\n",
       "      <td>6927</td>\n",
       "      <td>20.19</td>\n",
       "      <td>0.21</td>\n",
       "      <td>1</td>\n",
       "      <td>1</td>\n",
       "      <td>2020-07-01</td>\n",
       "    </tr>\n",
       "    <tr>\n",
       "      <th>1</th>\n",
       "      <td>129818127</td>\n",
       "      <td>2020-07-01 08:10:08</td>\n",
       "      <td>198835</td>\n",
       "      <td>198835</td>\n",
       "      <td>7011</td>\n",
       "      <td>20.28</td>\n",
       "      <td>0.21</td>\n",
       "      <td>0</td>\n",
       "      <td>1</td>\n",
       "      <td>2020-07-01</td>\n",
       "    </tr>\n",
       "    <tr>\n",
       "      <th>2</th>\n",
       "      <td>129861468</td>\n",
       "      <td>2020-07-01 22:52:11</td>\n",
       "      <td>212806</td>\n",
       "      <td>212806</td>\n",
       "      <td>5209</td>\n",
       "      <td>19.66</td>\n",
       "      <td>0.21</td>\n",
       "      <td>0</td>\n",
       "      <td>1</td>\n",
       "      <td>2020-07-01</td>\n",
       "    </tr>\n",
       "    <tr>\n",
       "      <th>3</th>\n",
       "      <td>129857633</td>\n",
       "      <td>2020-07-01 21:10:11</td>\n",
       "      <td>191057</td>\n",
       "      <td>191057</td>\n",
       "      <td>6059</td>\n",
       "      <td>20.13</td>\n",
       "      <td>0.21</td>\n",
       "      <td>0</td>\n",
       "      <td>1</td>\n",
       "      <td>2020-07-01</td>\n",
       "    </tr>\n",
       "    <tr>\n",
       "      <th>4</th>\n",
       "      <td>129856028</td>\n",
       "      <td>2020-07-01 20:53:39</td>\n",
       "      <td>101379</td>\n",
       "      <td>101379</td>\n",
       "      <td>7010</td>\n",
       "      <td>20.18</td>\n",
       "      <td>0.21</td>\n",
       "      <td>0</td>\n",
       "      <td>1</td>\n",
       "      <td>2020-07-01</td>\n",
       "    </tr>\n",
       "  </tbody>\n",
       "</table>\n",
       "</div>"
      ],
      "text/plain": [
       "       CT_ID             CT_DATE  CT_CARD_ID  CT_CUST_ID  CT_MER_ID CT_AMOUNT  \\\n",
       "0  129814245 2020-07-01 05:09:28      184460      184460       6927     20.19   \n",
       "1  129818127 2020-07-01 08:10:08      198835      198835       7011     20.28   \n",
       "2  129861468 2020-07-01 22:52:11      212806      212806       5209     19.66   \n",
       "3  129857633 2020-07-01 21:10:11      191057      191057       6059     20.13   \n",
       "4  129856028 2020-07-01 20:53:39      101379      101379       7010     20.18   \n",
       "\n",
       "  CT_FEE  CT_FLAG_FRAUD  CT_STATUS  CT_DAYDATE  \n",
       "0   0.21              1          1  2020-07-01  \n",
       "1   0.21              0          1  2020-07-01  \n",
       "2   0.21              0          1  2020-07-01  \n",
       "3   0.21              0          1  2020-07-01  \n",
       "4   0.21              0          1  2020-07-01  "
      ]
     },
     "execution_count": 3,
     "metadata": {},
     "output_type": "execute_result"
    }
   ],
   "source": [
    "df_pushdown.head(5).collect()"
   ]
  },
  {
   "cell_type": "markdown",
   "metadata": {},
   "source": [
    "### Row count\n",
    "Retrieve the number of rows / observations in the dataset."
   ]
  },
  {
   "cell_type": "code",
   "execution_count": 4,
   "metadata": {},
   "outputs": [
    {
     "data": {
      "text/plain": [
       "1689500"
      ]
     },
     "execution_count": 4,
     "metadata": {},
     "output_type": "execute_result"
    }
   ],
   "source": [
    "df_pushdown.count()"
   ]
  },
  {
   "cell_type": "markdown",
   "metadata": {},
   "source": [
    "### Column maximum\n",
    "Various functions on the SAP HANA DataFrame allow to push calculation down to SAP HANA. Have SAP HANA find the most expensive transaction in the dataset."
   ]
  },
  {
   "cell_type": "code",
   "execution_count": 5,
   "metadata": {},
   "outputs": [
    {
     "data": {
      "text/html": [
       "<div>\n",
       "<style scoped>\n",
       "    .dataframe tbody tr th:only-of-type {\n",
       "        vertical-align: middle;\n",
       "    }\n",
       "\n",
       "    .dataframe tbody tr th {\n",
       "        vertical-align: top;\n",
       "    }\n",
       "\n",
       "    .dataframe thead th {\n",
       "        text-align: right;\n",
       "    }\n",
       "</style>\n",
       "<table border=\"1\" class=\"dataframe\">\n",
       "  <thead>\n",
       "    <tr style=\"text-align: right;\">\n",
       "      <th></th>\n",
       "      <th>MOSTEXPENSIVE</th>\n",
       "    </tr>\n",
       "  </thead>\n",
       "  <tbody>\n",
       "    <tr>\n",
       "      <th>0</th>\n",
       "      <td>5000.64</td>\n",
       "    </tr>\n",
       "  </tbody>\n",
       "</table>\n",
       "</div>"
      ],
      "text/plain": [
       "  MOSTEXPENSIVE\n",
       "0       5000.64"
      ]
     },
     "execution_count": 5,
     "metadata": {},
     "output_type": "execute_result"
    }
   ],
   "source": [
    "df_pushdown.agg([('max', 'CT_AMOUNT', 'MOSTEXPENSIVE')]).collect()"
   ]
  },
  {
   "cell_type": "markdown",
   "metadata": {},
   "source": [
    "### Descriptive statistics \n",
    "Display most important data column statistics. All values were calculated within SAP HANA. "
   ]
  },
  {
   "cell_type": "code",
   "execution_count": 6,
   "metadata": {},
   "outputs": [
    {
     "data": {
      "text/html": [
       "<div>\n",
       "<style scoped>\n",
       "    .dataframe tbody tr th:only-of-type {\n",
       "        vertical-align: middle;\n",
       "    }\n",
       "\n",
       "    .dataframe tbody tr th {\n",
       "        vertical-align: top;\n",
       "    }\n",
       "\n",
       "    .dataframe thead th {\n",
       "        text-align: right;\n",
       "    }\n",
       "</style>\n",
       "<table border=\"1\" class=\"dataframe\">\n",
       "  <thead>\n",
       "    <tr style=\"text-align: right;\">\n",
       "      <th></th>\n",
       "      <th>column</th>\n",
       "      <th>count</th>\n",
       "      <th>unique</th>\n",
       "      <th>nulls</th>\n",
       "      <th>mean</th>\n",
       "      <th>std</th>\n",
       "      <th>min</th>\n",
       "      <th>max</th>\n",
       "      <th>median</th>\n",
       "      <th>25_percent_cont</th>\n",
       "      <th>25_percent_disc</th>\n",
       "      <th>50_percent_cont</th>\n",
       "      <th>50_percent_disc</th>\n",
       "      <th>75_percent_cont</th>\n",
       "      <th>75_percent_disc</th>\n",
       "    </tr>\n",
       "  </thead>\n",
       "  <tbody>\n",
       "    <tr>\n",
       "      <th>0</th>\n",
       "      <td>CT_ID</td>\n",
       "      <td>1689500</td>\n",
       "      <td>1689500</td>\n",
       "      <td>0</td>\n",
       "      <td>1.306563e+08</td>\n",
       "      <td>487716.784235</td>\n",
       "      <td>1.298115e+08</td>\n",
       "      <td>1.315010e+08</td>\n",
       "      <td>1.306563e+08</td>\n",
       "      <td>1.302339e+08</td>\n",
       "      <td>1.302339e+08</td>\n",
       "      <td>1.306563e+08</td>\n",
       "      <td>1.306562e+08</td>\n",
       "      <td>1.310786e+08</td>\n",
       "      <td>1.310786e+08</td>\n",
       "    </tr>\n",
       "    <tr>\n",
       "      <th>1</th>\n",
       "      <td>CT_CARD_ID</td>\n",
       "      <td>1689500</td>\n",
       "      <td>566689</td>\n",
       "      <td>0</td>\n",
       "      <td>3.401081e+05</td>\n",
       "      <td>265260.525894</td>\n",
       "      <td>1.000010e+05</td>\n",
       "      <td>9.999980e+05</td>\n",
       "      <td>1.965600e+05</td>\n",
       "      <td>1.482570e+05</td>\n",
       "      <td>1.482570e+05</td>\n",
       "      <td>1.965595e+05</td>\n",
       "      <td>1.965590e+05</td>\n",
       "      <td>5.168762e+05</td>\n",
       "      <td>5.168760e+05</td>\n",
       "    </tr>\n",
       "    <tr>\n",
       "      <th>2</th>\n",
       "      <td>CT_CUST_ID</td>\n",
       "      <td>1689500</td>\n",
       "      <td>566689</td>\n",
       "      <td>0</td>\n",
       "      <td>3.401081e+05</td>\n",
       "      <td>265260.525894</td>\n",
       "      <td>1.000010e+05</td>\n",
       "      <td>9.999980e+05</td>\n",
       "      <td>1.965600e+05</td>\n",
       "      <td>1.482570e+05</td>\n",
       "      <td>1.482570e+05</td>\n",
       "      <td>1.965595e+05</td>\n",
       "      <td>1.965590e+05</td>\n",
       "      <td>5.168762e+05</td>\n",
       "      <td>5.168760e+05</td>\n",
       "    </tr>\n",
       "    <tr>\n",
       "      <th>3</th>\n",
       "      <td>CT_MER_ID</td>\n",
       "      <td>1689500</td>\n",
       "      <td>46808</td>\n",
       "      <td>0</td>\n",
       "      <td>1.770374e+04</td>\n",
       "      <td>13808.532331</td>\n",
       "      <td>5.201000e+03</td>\n",
       "      <td>5.200800e+04</td>\n",
       "      <td>1.022700e+04</td>\n",
       "      <td>7.712000e+03</td>\n",
       "      <td>7.712000e+03</td>\n",
       "      <td>1.022700e+04</td>\n",
       "      <td>1.022700e+04</td>\n",
       "      <td>2.692200e+04</td>\n",
       "      <td>2.692200e+04</td>\n",
       "    </tr>\n",
       "    <tr>\n",
       "      <th>4</th>\n",
       "      <td>CT_AMOUNT</td>\n",
       "      <td>1689500</td>\n",
       "      <td>85536</td>\n",
       "      <td>0</td>\n",
       "      <td>1.264452e+02</td>\n",
       "      <td>410.360000</td>\n",
       "      <td>1.110000e+01</td>\n",
       "      <td>5.000640e+03</td>\n",
       "      <td>2.712000e+01</td>\n",
       "      <td>1.691000e+01</td>\n",
       "      <td>1.691000e+01</td>\n",
       "      <td>2.712000e+01</td>\n",
       "      <td>2.712000e+01</td>\n",
       "      <td>8.019000e+01</td>\n",
       "      <td>8.019000e+01</td>\n",
       "    </tr>\n",
       "    <tr>\n",
       "      <th>5</th>\n",
       "      <td>CT_FEE</td>\n",
       "      <td>1689500</td>\n",
       "      <td>15039</td>\n",
       "      <td>0</td>\n",
       "      <td>3.723969e+00</td>\n",
       "      <td>16.500000</td>\n",
       "      <td>1.200000e-01</td>\n",
       "      <td>4.499000e+02</td>\n",
       "      <td>7.700000e-01</td>\n",
       "      <td>2.400000e-01</td>\n",
       "      <td>2.400000e-01</td>\n",
       "      <td>7.700000e-01</td>\n",
       "      <td>7.700000e-01</td>\n",
       "      <td>1.830000e+00</td>\n",
       "      <td>1.830000e+00</td>\n",
       "    </tr>\n",
       "    <tr>\n",
       "      <th>6</th>\n",
       "      <td>CT_FLAG_FRAUD</td>\n",
       "      <td>1689500</td>\n",
       "      <td>2</td>\n",
       "      <td>0</td>\n",
       "      <td>9.909914e-02</td>\n",
       "      <td>0.298795</td>\n",
       "      <td>0.000000e+00</td>\n",
       "      <td>1.000000e+00</td>\n",
       "      <td>0.000000e+00</td>\n",
       "      <td>0.000000e+00</td>\n",
       "      <td>0.000000e+00</td>\n",
       "      <td>0.000000e+00</td>\n",
       "      <td>0.000000e+00</td>\n",
       "      <td>0.000000e+00</td>\n",
       "      <td>0.000000e+00</td>\n",
       "    </tr>\n",
       "    <tr>\n",
       "      <th>7</th>\n",
       "      <td>CT_STATUS</td>\n",
       "      <td>1689500</td>\n",
       "      <td>1</td>\n",
       "      <td>0</td>\n",
       "      <td>1.000000e+00</td>\n",
       "      <td>0.000000</td>\n",
       "      <td>1.000000e+00</td>\n",
       "      <td>1.000000e+00</td>\n",
       "      <td>1.000000e+00</td>\n",
       "      <td>1.000000e+00</td>\n",
       "      <td>1.000000e+00</td>\n",
       "      <td>1.000000e+00</td>\n",
       "      <td>1.000000e+00</td>\n",
       "      <td>1.000000e+00</td>\n",
       "      <td>1.000000e+00</td>\n",
       "    </tr>\n",
       "    <tr>\n",
       "      <th>8</th>\n",
       "      <td>CT_DATE</td>\n",
       "      <td>1689500</td>\n",
       "      <td>629354</td>\n",
       "      <td>0</td>\n",
       "      <td>NaN</td>\n",
       "      <td>NaN</td>\n",
       "      <td>NaN</td>\n",
       "      <td>NaN</td>\n",
       "      <td>NaN</td>\n",
       "      <td>NaN</td>\n",
       "      <td>NaN</td>\n",
       "      <td>NaN</td>\n",
       "      <td>NaN</td>\n",
       "      <td>NaN</td>\n",
       "      <td>NaN</td>\n",
       "    </tr>\n",
       "    <tr>\n",
       "      <th>9</th>\n",
       "      <td>CT_DAYDATE</td>\n",
       "      <td>1689500</td>\n",
       "      <td>31</td>\n",
       "      <td>0</td>\n",
       "      <td>NaN</td>\n",
       "      <td>NaN</td>\n",
       "      <td>NaN</td>\n",
       "      <td>NaN</td>\n",
       "      <td>NaN</td>\n",
       "      <td>NaN</td>\n",
       "      <td>NaN</td>\n",
       "      <td>NaN</td>\n",
       "      <td>NaN</td>\n",
       "      <td>NaN</td>\n",
       "      <td>NaN</td>\n",
       "    </tr>\n",
       "  </tbody>\n",
       "</table>\n",
       "</div>"
      ],
      "text/plain": [
       "          column    count   unique  nulls          mean            std  \\\n",
       "0          CT_ID  1689500  1689500      0  1.306563e+08  487716.784235   \n",
       "1     CT_CARD_ID  1689500   566689      0  3.401081e+05  265260.525894   \n",
       "2     CT_CUST_ID  1689500   566689      0  3.401081e+05  265260.525894   \n",
       "3      CT_MER_ID  1689500    46808      0  1.770374e+04   13808.532331   \n",
       "4      CT_AMOUNT  1689500    85536      0  1.264452e+02     410.360000   \n",
       "5         CT_FEE  1689500    15039      0  3.723969e+00      16.500000   \n",
       "6  CT_FLAG_FRAUD  1689500        2      0  9.909914e-02       0.298795   \n",
       "7      CT_STATUS  1689500        1      0  1.000000e+00       0.000000   \n",
       "8        CT_DATE  1689500   629354      0           NaN            NaN   \n",
       "9     CT_DAYDATE  1689500       31      0           NaN            NaN   \n",
       "\n",
       "            min           max        median  25_percent_cont  25_percent_disc  \\\n",
       "0  1.298115e+08  1.315010e+08  1.306563e+08     1.302339e+08     1.302339e+08   \n",
       "1  1.000010e+05  9.999980e+05  1.965600e+05     1.482570e+05     1.482570e+05   \n",
       "2  1.000010e+05  9.999980e+05  1.965600e+05     1.482570e+05     1.482570e+05   \n",
       "3  5.201000e+03  5.200800e+04  1.022700e+04     7.712000e+03     7.712000e+03   \n",
       "4  1.110000e+01  5.000640e+03  2.712000e+01     1.691000e+01     1.691000e+01   \n",
       "5  1.200000e-01  4.499000e+02  7.700000e-01     2.400000e-01     2.400000e-01   \n",
       "6  0.000000e+00  1.000000e+00  0.000000e+00     0.000000e+00     0.000000e+00   \n",
       "7  1.000000e+00  1.000000e+00  1.000000e+00     1.000000e+00     1.000000e+00   \n",
       "8           NaN           NaN           NaN              NaN              NaN   \n",
       "9           NaN           NaN           NaN              NaN              NaN   \n",
       "\n",
       "   50_percent_cont  50_percent_disc  75_percent_cont  75_percent_disc  \n",
       "0     1.306563e+08     1.306562e+08     1.310786e+08     1.310786e+08  \n",
       "1     1.965595e+05     1.965590e+05     5.168762e+05     5.168760e+05  \n",
       "2     1.965595e+05     1.965590e+05     5.168762e+05     5.168760e+05  \n",
       "3     1.022700e+04     1.022700e+04     2.692200e+04     2.692200e+04  \n",
       "4     2.712000e+01     2.712000e+01     8.019000e+01     8.019000e+01  \n",
       "5     7.700000e-01     7.700000e-01     1.830000e+00     1.830000e+00  \n",
       "6     0.000000e+00     0.000000e+00     0.000000e+00     0.000000e+00  \n",
       "7     1.000000e+00     1.000000e+00     1.000000e+00     1.000000e+00  \n",
       "8              NaN              NaN              NaN              NaN  \n",
       "9              NaN              NaN              NaN              NaN  "
      ]
     },
     "execution_count": 6,
     "metadata": {},
     "output_type": "execute_result"
    }
   ],
   "source": [
    "df_pushdown.describe().collect()"
   ]
  },
  {
   "cell_type": "markdown",
   "metadata": {},
   "source": [
    "Display the SELECT statement that was automatically created to obtain the above statistics. The syntax might be useful for transparency, verification or modification."
   ]
  },
  {
   "cell_type": "code",
   "execution_count": 7,
   "metadata": {},
   "outputs": [
    {
     "data": {
      "text/plain": [
       "'SELECT * FROM (SELECT \"SimpleStats\".*, \"Percentiles\".\"25_percent_cont\", \"Percentiles\".\"25_percent_disc\", \"Percentiles\".\"50_percent_cont\", \"Percentiles\".\"50_percent_disc\", \"Percentiles\".\"75_percent_cont\", \"Percentiles\".\"75_percent_disc\" FROM (select \\'CT_ID\\' as \"column\", COUNT(\"CT_ID\") as \"count\", COUNT(DISTINCT \"CT_ID\") as \"unique\", SUM(CASE WHEN \"CT_ID\" is NULL THEN 1 ELSE 0 END) as \"nulls\", AVG(TO_DOUBLE(\"CT_ID\")) as \"mean\", STDDEV(\"CT_ID\") as \"std\", MIN(\"CT_ID\") as \"min\", MAX(\"CT_ID\") as \"max\", MEDIAN(\"CT_ID\") as \"median\" FROM (SELECT * FROM \"BIUSER\".\"CARD_TRANSACTIONS_JULY_2020\") AS \"DT_0\" UNION ALL select \\'CT_CARD_ID\\' as \"column\", COUNT(\"CT_CARD_ID\") as \"count\", COUNT(DISTINCT \"CT_CARD_ID\") as \"unique\", SUM(CASE WHEN \"CT_CARD_ID\" is NULL THEN 1 ELSE 0 END) as \"nulls\", AVG(TO_DOUBLE(\"CT_CARD_ID\")) as \"mean\", STDDEV(\"CT_CARD_ID\") as \"std\", MIN(\"CT_CARD_ID\") as \"min\", MAX(\"CT_CARD_ID\") as \"max\", MEDIAN(\"CT_CARD_ID\") as \"median\" FROM (SELECT * FROM \"BIUSER\".\"CARD_TRANSACTIONS_JULY_2020\") AS \"DT_0\" UNION ALL select \\'CT_CUST_ID\\' as \"column\", COUNT(\"CT_CUST_ID\") as \"count\", COUNT(DISTINCT \"CT_CUST_ID\") as \"unique\", SUM(CASE WHEN \"CT_CUST_ID\" is NULL THEN 1 ELSE 0 END) as \"nulls\", AVG(TO_DOUBLE(\"CT_CUST_ID\")) as \"mean\", STDDEV(\"CT_CUST_ID\") as \"std\", MIN(\"CT_CUST_ID\") as \"min\", MAX(\"CT_CUST_ID\") as \"max\", MEDIAN(\"CT_CUST_ID\") as \"median\" FROM (SELECT * FROM \"BIUSER\".\"CARD_TRANSACTIONS_JULY_2020\") AS \"DT_0\" UNION ALL select \\'CT_MER_ID\\' as \"column\", COUNT(\"CT_MER_ID\") as \"count\", COUNT(DISTINCT \"CT_MER_ID\") as \"unique\", SUM(CASE WHEN \"CT_MER_ID\" is NULL THEN 1 ELSE 0 END) as \"nulls\", AVG(TO_DOUBLE(\"CT_MER_ID\")) as \"mean\", STDDEV(\"CT_MER_ID\") as \"std\", MIN(\"CT_MER_ID\") as \"min\", MAX(\"CT_MER_ID\") as \"max\", MEDIAN(\"CT_MER_ID\") as \"median\" FROM (SELECT * FROM \"BIUSER\".\"CARD_TRANSACTIONS_JULY_2020\") AS \"DT_0\" UNION ALL select \\'CT_AMOUNT\\' as \"column\", COUNT(\"CT_AMOUNT\") as \"count\", COUNT(DISTINCT \"CT_AMOUNT\") as \"unique\", SUM(CASE WHEN \"CT_AMOUNT\" is NULL THEN 1 ELSE 0 END) as \"nulls\", AVG(TO_DOUBLE(\"CT_AMOUNT\")) as \"mean\", STDDEV(\"CT_AMOUNT\") as \"std\", MIN(\"CT_AMOUNT\") as \"min\", MAX(\"CT_AMOUNT\") as \"max\", MEDIAN(\"CT_AMOUNT\") as \"median\" FROM (SELECT * FROM \"BIUSER\".\"CARD_TRANSACTIONS_JULY_2020\") AS \"DT_0\" UNION ALL select \\'CT_FEE\\' as \"column\", COUNT(\"CT_FEE\") as \"count\", COUNT(DISTINCT \"CT_FEE\") as \"unique\", SUM(CASE WHEN \"CT_FEE\" is NULL THEN 1 ELSE 0 END) as \"nulls\", AVG(TO_DOUBLE(\"CT_FEE\")) as \"mean\", STDDEV(\"CT_FEE\") as \"std\", MIN(\"CT_FEE\") as \"min\", MAX(\"CT_FEE\") as \"max\", MEDIAN(\"CT_FEE\") as \"median\" FROM (SELECT * FROM \"BIUSER\".\"CARD_TRANSACTIONS_JULY_2020\") AS \"DT_0\" UNION ALL select \\'CT_FLAG_FRAUD\\' as \"column\", COUNT(\"CT_FLAG_FRAUD\") as \"count\", COUNT(DISTINCT \"CT_FLAG_FRAUD\") as \"unique\", SUM(CASE WHEN \"CT_FLAG_FRAUD\" is NULL THEN 1 ELSE 0 END) as \"nulls\", AVG(TO_DOUBLE(\"CT_FLAG_FRAUD\")) as \"mean\", STDDEV(\"CT_FLAG_FRAUD\") as \"std\", MIN(\"CT_FLAG_FRAUD\") as \"min\", MAX(\"CT_FLAG_FRAUD\") as \"max\", MEDIAN(\"CT_FLAG_FRAUD\") as \"median\" FROM (SELECT * FROM \"BIUSER\".\"CARD_TRANSACTIONS_JULY_2020\") AS \"DT_0\" UNION ALL select \\'CT_STATUS\\' as \"column\", COUNT(\"CT_STATUS\") as \"count\", COUNT(DISTINCT \"CT_STATUS\") as \"unique\", SUM(CASE WHEN \"CT_STATUS\" is NULL THEN 1 ELSE 0 END) as \"nulls\", AVG(TO_DOUBLE(\"CT_STATUS\")) as \"mean\", STDDEV(\"CT_STATUS\") as \"std\", MIN(\"CT_STATUS\") as \"min\", MAX(\"CT_STATUS\") as \"max\", MEDIAN(\"CT_STATUS\") as \"median\" FROM (SELECT * FROM \"BIUSER\".\"CARD_TRANSACTIONS_JULY_2020\") AS \"DT_0\") AS \"SimpleStats\", (SELECT \\'CT_ID\\' as \"column\", * FROM (SELECT percentile_cont(0.25) WITHIN GROUP (ORDER BY \"CT_ID\") AS \"25_percent_cont\", percentile_disc(0.25) WITHIN GROUP (ORDER BY \"CT_ID\") AS \"25_percent_disc\", percentile_cont(0.50) WITHIN GROUP (ORDER BY \"CT_ID\") AS \"50_percent_cont\", percentile_disc(0.50) WITHIN GROUP (ORDER BY \"CT_ID\") AS \"50_percent_disc\", percentile_cont(0.75) WITHIN GROUP (ORDER BY \"CT_ID\") AS \"75_percent_cont\", percentile_disc(0.75) WITHIN GROUP (ORDER BY \"CT_ID\") AS \"75_percent_disc\" FROM (SELECT * FROM \"BIUSER\".\"CARD_TRANSACTIONS_JULY_2020\") AS \"DT_0\") UNION ALL SELECT \\'CT_CARD_ID\\' as \"column\", * FROM (SELECT percentile_cont(0.25) WITHIN GROUP (ORDER BY \"CT_CARD_ID\") AS \"25_percent_cont\", percentile_disc(0.25) WITHIN GROUP (ORDER BY \"CT_CARD_ID\") AS \"25_percent_disc\", percentile_cont(0.50) WITHIN GROUP (ORDER BY \"CT_CARD_ID\") AS \"50_percent_cont\", percentile_disc(0.50) WITHIN GROUP (ORDER BY \"CT_CARD_ID\") AS \"50_percent_disc\", percentile_cont(0.75) WITHIN GROUP (ORDER BY \"CT_CARD_ID\") AS \"75_percent_cont\", percentile_disc(0.75) WITHIN GROUP (ORDER BY \"CT_CARD_ID\") AS \"75_percent_disc\" FROM (SELECT * FROM \"BIUSER\".\"CARD_TRANSACTIONS_JULY_2020\") AS \"DT_0\") UNION ALL SELECT \\'CT_CUST_ID\\' as \"column\", * FROM (SELECT percentile_cont(0.25) WITHIN GROUP (ORDER BY \"CT_CUST_ID\") AS \"25_percent_cont\", percentile_disc(0.25) WITHIN GROUP (ORDER BY \"CT_CUST_ID\") AS \"25_percent_disc\", percentile_cont(0.50) WITHIN GROUP (ORDER BY \"CT_CUST_ID\") AS \"50_percent_cont\", percentile_disc(0.50) WITHIN GROUP (ORDER BY \"CT_CUST_ID\") AS \"50_percent_disc\", percentile_cont(0.75) WITHIN GROUP (ORDER BY \"CT_CUST_ID\") AS \"75_percent_cont\", percentile_disc(0.75) WITHIN GROUP (ORDER BY \"CT_CUST_ID\") AS \"75_percent_disc\" FROM (SELECT * FROM \"BIUSER\".\"CARD_TRANSACTIONS_JULY_2020\") AS \"DT_0\") UNION ALL SELECT \\'CT_MER_ID\\' as \"column\", * FROM (SELECT percentile_cont(0.25) WITHIN GROUP (ORDER BY \"CT_MER_ID\") AS \"25_percent_cont\", percentile_disc(0.25) WITHIN GROUP (ORDER BY \"CT_MER_ID\") AS \"25_percent_disc\", percentile_cont(0.50) WITHIN GROUP (ORDER BY \"CT_MER_ID\") AS \"50_percent_cont\", percentile_disc(0.50) WITHIN GROUP (ORDER BY \"CT_MER_ID\") AS \"50_percent_disc\", percentile_cont(0.75) WITHIN GROUP (ORDER BY \"CT_MER_ID\") AS \"75_percent_cont\", percentile_disc(0.75) WITHIN GROUP (ORDER BY \"CT_MER_ID\") AS \"75_percent_disc\" FROM (SELECT * FROM \"BIUSER\".\"CARD_TRANSACTIONS_JULY_2020\") AS \"DT_0\") UNION ALL SELECT \\'CT_AMOUNT\\' as \"column\", * FROM (SELECT percentile_cont(0.25) WITHIN GROUP (ORDER BY \"CT_AMOUNT\") AS \"25_percent_cont\", percentile_disc(0.25) WITHIN GROUP (ORDER BY \"CT_AMOUNT\") AS \"25_percent_disc\", percentile_cont(0.50) WITHIN GROUP (ORDER BY \"CT_AMOUNT\") AS \"50_percent_cont\", percentile_disc(0.50) WITHIN GROUP (ORDER BY \"CT_AMOUNT\") AS \"50_percent_disc\", percentile_cont(0.75) WITHIN GROUP (ORDER BY \"CT_AMOUNT\") AS \"75_percent_cont\", percentile_disc(0.75) WITHIN GROUP (ORDER BY \"CT_AMOUNT\") AS \"75_percent_disc\" FROM (SELECT * FROM \"BIUSER\".\"CARD_TRANSACTIONS_JULY_2020\") AS \"DT_0\") UNION ALL SELECT \\'CT_FEE\\' as \"column\", * FROM (SELECT percentile_cont(0.25) WITHIN GROUP (ORDER BY \"CT_FEE\") AS \"25_percent_cont\", percentile_disc(0.25) WITHIN GROUP (ORDER BY \"CT_FEE\") AS \"25_percent_disc\", percentile_cont(0.50) WITHIN GROUP (ORDER BY \"CT_FEE\") AS \"50_percent_cont\", percentile_disc(0.50) WITHIN GROUP (ORDER BY \"CT_FEE\") AS \"50_percent_disc\", percentile_cont(0.75) WITHIN GROUP (ORDER BY \"CT_FEE\") AS \"75_percent_cont\", percentile_disc(0.75) WITHIN GROUP (ORDER BY \"CT_FEE\") AS \"75_percent_disc\" FROM (SELECT * FROM \"BIUSER\".\"CARD_TRANSACTIONS_JULY_2020\") AS \"DT_0\") UNION ALL SELECT \\'CT_FLAG_FRAUD\\' as \"column\", * FROM (SELECT percentile_cont(0.25) WITHIN GROUP (ORDER BY \"CT_FLAG_FRAUD\") AS \"25_percent_cont\", percentile_disc(0.25) WITHIN GROUP (ORDER BY \"CT_FLAG_FRAUD\") AS \"25_percent_disc\", percentile_cont(0.50) WITHIN GROUP (ORDER BY \"CT_FLAG_FRAUD\") AS \"50_percent_cont\", percentile_disc(0.50) WITHIN GROUP (ORDER BY \"CT_FLAG_FRAUD\") AS \"50_percent_disc\", percentile_cont(0.75) WITHIN GROUP (ORDER BY \"CT_FLAG_FRAUD\") AS \"75_percent_cont\", percentile_disc(0.75) WITHIN GROUP (ORDER BY \"CT_FLAG_FRAUD\") AS \"75_percent_disc\" FROM (SELECT * FROM \"BIUSER\".\"CARD_TRANSACTIONS_JULY_2020\") AS \"DT_0\") UNION ALL SELECT \\'CT_STATUS\\' as \"column\", * FROM (SELECT percentile_cont(0.25) WITHIN GROUP (ORDER BY \"CT_STATUS\") AS \"25_percent_cont\", percentile_disc(0.25) WITHIN GROUP (ORDER BY \"CT_STATUS\") AS \"25_percent_disc\", percentile_cont(0.50) WITHIN GROUP (ORDER BY \"CT_STATUS\") AS \"50_percent_cont\", percentile_disc(0.50) WITHIN GROUP (ORDER BY \"CT_STATUS\") AS \"50_percent_disc\", percentile_cont(0.75) WITHIN GROUP (ORDER BY \"CT_STATUS\") AS \"75_percent_cont\", percentile_disc(0.75) WITHIN GROUP (ORDER BY \"CT_STATUS\") AS \"75_percent_disc\" FROM (SELECT * FROM \"BIUSER\".\"CARD_TRANSACTIONS_JULY_2020\") AS \"DT_0\")) AS \"Percentiles\" WHERE \"SimpleStats\".\"column\" = \"Percentiles\".\"column\") AS \"Numerics\" UNION ALL SELECT * FROM (select \\'CT_DATE\\' as \"column\", COUNT(\"CT_DATE\") as \"count\", COUNT(DISTINCT \"CT_DATE\") as \"unique\", SUM(CASE WHEN \"CT_DATE\" IS NULL THEN 1 ELSE 0 END) as \"nulls\", CAST(NULL as DOUBLE) AS \"mean\", CAST(NULL as double) as \"std\", CAST(NULL as DOUBLE) AS \"min\", CAST(NULL as DOUBLE) AS \"max\", CAST(NULL as DOUBLE) AS \"median\", CAST(NULL AS DOUBLE) AS \"25_percent_cont\", CAST(NULL AS DOUBLE) AS \"25_percent_disc\", CAST(NULL AS DOUBLE) AS \"50_percent_cont\", CAST(NULL AS DOUBLE) AS \"50_percent_disc\", CAST(NULL AS DOUBLE) AS \"75_percent_cont\", CAST(NULL AS DOUBLE) AS \"75_percent_disc\" FROM (SELECT * FROM \"BIUSER\".\"CARD_TRANSACTIONS_JULY_2020\") AS \"DT_0\" UNION ALL select \\'CT_DAYDATE\\' as \"column\", COUNT(\"CT_DAYDATE\") as \"count\", COUNT(DISTINCT \"CT_DAYDATE\") as \"unique\", SUM(CASE WHEN \"CT_DAYDATE\" IS NULL THEN 1 ELSE 0 END) as \"nulls\", CAST(NULL as DOUBLE) AS \"mean\", CAST(NULL as double) as \"std\", CAST(NULL as DOUBLE) AS \"min\", CAST(NULL as DOUBLE) AS \"max\", CAST(NULL as DOUBLE) AS \"median\", CAST(NULL AS DOUBLE) AS \"25_percent_cont\", CAST(NULL AS DOUBLE) AS \"25_percent_disc\", CAST(NULL AS DOUBLE) AS \"50_percent_cont\", CAST(NULL AS DOUBLE) AS \"50_percent_disc\", CAST(NULL AS DOUBLE) AS \"75_percent_cont\", CAST(NULL AS DOUBLE) AS \"75_percent_disc\" FROM (SELECT * FROM \"BIUSER\".\"CARD_TRANSACTIONS_JULY_2020\") AS \"DT_0\") AS \"NonNumerics\"'"
      ]
     },
     "execution_count": 7,
     "metadata": {},
     "output_type": "execute_result"
    }
   ],
   "source": [
    "df_pushdown.describe().select_statement"
   ]
  },
  {
   "cell_type": "markdown",
   "metadata": {},
   "source": [
    "### Category frequency by Fraud Flag\n",
    "In the previous notebook the hana_ml wrapper was used to plot the number of transactions by fraud flag. To have more control over the plot one can also delegate the aggregation / count to SAP HANA, retrieve the result as pandas data frame and create a plot from scratch.\n",
    "<BR><BR>Plot the number of transactions by fraud flag."
   ]
  },
  {
   "cell_type": "code",
   "execution_count": 8,
   "metadata": {},
   "outputs": [
    {
     "data": {
      "text/html": [
       "<div>\n",
       "<style scoped>\n",
       "    .dataframe tbody tr th:only-of-type {\n",
       "        vertical-align: middle;\n",
       "    }\n",
       "\n",
       "    .dataframe tbody tr th {\n",
       "        vertical-align: top;\n",
       "    }\n",
       "\n",
       "    .dataframe thead th {\n",
       "        text-align: right;\n",
       "    }\n",
       "</style>\n",
       "<table border=\"1\" class=\"dataframe\">\n",
       "  <thead>\n",
       "    <tr style=\"text-align: right;\">\n",
       "      <th></th>\n",
       "      <th>CT_FLAG_FRAUD</th>\n",
       "      <th>COUNT</th>\n",
       "    </tr>\n",
       "  </thead>\n",
       "  <tbody>\n",
       "    <tr>\n",
       "      <th>0</th>\n",
       "      <td>0</td>\n",
       "      <td>1522072</td>\n",
       "    </tr>\n",
       "    <tr>\n",
       "      <th>1</th>\n",
       "      <td>1</td>\n",
       "      <td>167428</td>\n",
       "    </tr>\n",
       "  </tbody>\n",
       "</table>\n",
       "</div>"
      ],
      "text/plain": [
       "   CT_FLAG_FRAUD    COUNT\n",
       "0              0  1522072\n",
       "1              1   167428"
      ]
     },
     "execution_count": 8,
     "metadata": {},
     "output_type": "execute_result"
    }
   ],
   "source": [
    "df_pushdown_col_frequency = df_pushdown.agg([('count', 'CT_FLAG_FRAUD', 'COUNT')],  group_by = 'CT_FLAG_FRAUD')\n",
    "df_col_frequency = df_pushdown_col_frequency.sort('COUNT', desc = True).collect()\n",
    "df_col_frequency"
   ]
  },
  {
   "cell_type": "code",
   "execution_count": 9,
   "metadata": {},
   "outputs": [
    {
     "data": {
      "image/png": "[encoded data removed]",
      "text/plain": [
       "<Figure size 432x288 with 1 Axes>"
      ]
     },
     "metadata": {
      "needs_background": "light"
     },
     "output_type": "display_data"
    }
   ],
   "source": [
    "%matplotlib inline\n",
    "df_col_frequency.plot.bar(x = 'CT_FLAG_FRAUD',\n",
    "                          y = 'COUNT',\n",
    "                          title = 'Freq');"
   ]
  },
  {
   "cell_type": "markdown",
   "metadata": {},
   "source": [
    "### Inspect fraud percentage by hour and whether transaction is at a virtual store or not"
   ]
  },
  {
   "cell_type": "markdown",
   "metadata": {},
   "source": [
    "Increase fraud percentage of transactions in the night at merchants that are not virtual stores\n",
    "- Strategy: get transactions and partition data using a random number generator and the PAL function"
   ]
  },
  {
   "cell_type": "code",
   "execution_count": 10,
   "metadata": {},
   "outputs": [],
   "source": [
    "df_hour_physical = conn.sql(\"select CT_ID, CT_FLAG_FRAUD \\\n",
    "                            from BIUSER.CARD_TRANSACTIONS_JULY_2020 t, SOURCEDATA.MERCHANT_CA m \\\n",
    "                            where t.CT_MER_ID = m.MER_ID and ( hour(CT_DATE) <= 5 or hour(CT_DATE) >= 22) and m.MER_FLAG_VIRTUAL_STORE = 0\")"
   ]
  },
  {
   "cell_type": "code",
   "execution_count": 11,
   "metadata": {},
   "outputs": [
    {
     "data": {
      "text/html": [
       "<div>\n",
       "<style scoped>\n",
       "    .dataframe tbody tr th:only-of-type {\n",
       "        vertical-align: middle;\n",
       "    }\n",
       "\n",
       "    .dataframe tbody tr th {\n",
       "        vertical-align: top;\n",
       "    }\n",
       "\n",
       "    .dataframe thead th {\n",
       "        text-align: right;\n",
       "    }\n",
       "</style>\n",
       "<table border=\"1\" class=\"dataframe\">\n",
       "  <thead>\n",
       "    <tr style=\"text-align: right;\">\n",
       "      <th></th>\n",
       "      <th>CT_ID</th>\n",
       "      <th>CT_FLAG_FRAUD</th>\n",
       "    </tr>\n",
       "  </thead>\n",
       "  <tbody>\n",
       "    <tr>\n",
       "      <th>0</th>\n",
       "      <td>129814245</td>\n",
       "      <td>1</td>\n",
       "    </tr>\n",
       "    <tr>\n",
       "      <th>1</th>\n",
       "      <td>129861468</td>\n",
       "      <td>0</td>\n",
       "    </tr>\n",
       "    <tr>\n",
       "      <th>2</th>\n",
       "      <td>129813639</td>\n",
       "      <td>0</td>\n",
       "    </tr>\n",
       "    <tr>\n",
       "      <th>3</th>\n",
       "      <td>129813503</td>\n",
       "      <td>0</td>\n",
       "    </tr>\n",
       "    <tr>\n",
       "      <th>4</th>\n",
       "      <td>129865822</td>\n",
       "      <td>0</td>\n",
       "    </tr>\n",
       "  </tbody>\n",
       "</table>\n",
       "</div>"
      ],
      "text/plain": [
       "       CT_ID  CT_FLAG_FRAUD\n",
       "0  129814245              1\n",
       "1  129861468              0\n",
       "2  129813639              0\n",
       "3  129813503              0\n",
       "4  129865822              0"
      ]
     },
     "execution_count": 11,
     "metadata": {},
     "output_type": "execute_result"
    }
   ],
   "source": [
    "df_hour_physical.head(5).collect()"
   ]
  },
  {
   "cell_type": "code",
   "execution_count": 12,
   "metadata": {},
   "outputs": [
    {
     "data": {
      "text/plain": [
       "168459"
      ]
     },
     "execution_count": 12,
     "metadata": {},
     "output_type": "execute_result"
    }
   ],
   "source": [
    "df_hour_physical.count()"
   ]
  },
  {
   "cell_type": "code",
   "execution_count": 13,
   "metadata": {},
   "outputs": [
    {
     "data": {
      "text/plain": [
       "'select CT_ID, CT_FLAG_FRAUD                             from BIUSER.CARD_TRANSACTIONS_JULY_2020 t, SOURCEDATA.MERCHANT_CA m                             where t.CT_MER_ID = m.MER_ID and ( hour(CT_DATE) <= 5 or hour(CT_DATE) >= 22) and m.MER_FLAG_VIRTUAL_STORE = 0'"
      ]
     },
     "execution_count": 13,
     "metadata": {},
     "output_type": "execute_result"
    }
   ],
   "source": [
    "df_hour_physical.select_statement"
   ]
  },
  {
   "cell_type": "markdown",
   "metadata": {},
   "source": [
    "PAL Partition function needs a physical table; and cannot use views unfortunately. Using a temporary table instead."
   ]
  },
  {
   "cell_type": "code",
   "execution_count": 14,
   "metadata": {},
   "outputs": [],
   "source": [
    "from hana_ml.algorithms.pal import partition\n",
    "df_hour_physical_sample, df_hour_physical_ignore1, df_hour_physical_ignore2 = partition.train_test_val_split(\n",
    "                               data = df_hour_physical, \n",
    "                               random_seed = 4242,\n",
    "                               training_percentage = 0.25, \n",
    "                               testing_percentage = 0.50, \n",
    "                               validation_percentage = 0.25)"
   ]
  },
  {
   "cell_type": "code",
   "execution_count": 15,
   "metadata": {},
   "outputs": [
    {
     "data": {
      "text/html": [
       "<div>\n",
       "<style scoped>\n",
       "    .dataframe tbody tr th:only-of-type {\n",
       "        vertical-align: middle;\n",
       "    }\n",
       "\n",
       "    .dataframe tbody tr th {\n",
       "        vertical-align: top;\n",
       "    }\n",
       "\n",
       "    .dataframe thead th {\n",
       "        text-align: right;\n",
       "    }\n",
       "</style>\n",
       "<table border=\"1\" class=\"dataframe\">\n",
       "  <thead>\n",
       "    <tr style=\"text-align: right;\">\n",
       "      <th></th>\n",
       "      <th>CT_ID</th>\n",
       "      <th>CT_FLAG_FRAUD</th>\n",
       "    </tr>\n",
       "  </thead>\n",
       "  <tbody>\n",
       "    <tr>\n",
       "      <th>0</th>\n",
       "      <td>129861468</td>\n",
       "      <td>0</td>\n",
       "    </tr>\n",
       "    <tr>\n",
       "      <th>1</th>\n",
       "      <td>129813639</td>\n",
       "      <td>0</td>\n",
       "    </tr>\n",
       "    <tr>\n",
       "      <th>2</th>\n",
       "      <td>129865822</td>\n",
       "      <td>0</td>\n",
       "    </tr>\n",
       "    <tr>\n",
       "      <th>3</th>\n",
       "      <td>129862973</td>\n",
       "      <td>1</td>\n",
       "    </tr>\n",
       "    <tr>\n",
       "      <th>4</th>\n",
       "      <td>129812312</td>\n",
       "      <td>0</td>\n",
       "    </tr>\n",
       "  </tbody>\n",
       "</table>\n",
       "</div>"
      ],
      "text/plain": [
       "       CT_ID  CT_FLAG_FRAUD\n",
       "0  129861468              0\n",
       "1  129813639              0\n",
       "2  129865822              0\n",
       "3  129862973              1\n",
       "4  129812312              0"
      ]
     },
     "execution_count": 15,
     "metadata": {},
     "output_type": "execute_result"
    }
   ],
   "source": [
    "df_hour_physical_sample.head(5).collect()"
   ]
  },
  {
   "cell_type": "code",
   "execution_count": 16,
   "metadata": {},
   "outputs": [
    {
     "data": {
      "text/plain": [
       "42115"
      ]
     },
     "execution_count": 16,
     "metadata": {},
     "output_type": "execute_result"
    }
   ],
   "source": [
    "df_hour_physical_sample.count()"
   ]
  },
  {
   "cell_type": "markdown",
   "metadata": {},
   "source": [
    "For these subset of transactions: 25% of the transactions that were done in the night at merchants that are not physical stores, we will set the fraud flag to 1."
   ]
  },
  {
   "cell_type": "markdown",
   "metadata": {},
   "source": [
    "### Inspect fraud percentage by weekday. More fraud transactions in weekend"
   ]
  },
  {
   "cell_type": "code",
   "execution_count": 17,
   "metadata": {},
   "outputs": [],
   "source": [
    "df_weekday = conn.sql(\"select CT_ID, CT_FLAG_FRAUD \\\n",
    "from BIUSER.CARD_TRANSACTIONS_JULY_2020 t \\\n",
    "where weekday(CT_DAYDATE) >= 5 and CT_FLAG_FRAUD = 0\")"
   ]
  },
  {
   "cell_type": "code",
   "execution_count": 18,
   "metadata": {},
   "outputs": [
    {
     "data": {
      "text/html": [
       "<div>\n",
       "<style scoped>\n",
       "    .dataframe tbody tr th:only-of-type {\n",
       "        vertical-align: middle;\n",
       "    }\n",
       "\n",
       "    .dataframe tbody tr th {\n",
       "        vertical-align: top;\n",
       "    }\n",
       "\n",
       "    .dataframe thead th {\n",
       "        text-align: right;\n",
       "    }\n",
       "</style>\n",
       "<table border=\"1\" class=\"dataframe\">\n",
       "  <thead>\n",
       "    <tr style=\"text-align: right;\">\n",
       "      <th></th>\n",
       "      <th>CT_ID</th>\n",
       "      <th>CT_FLAG_FRAUD</th>\n",
       "    </tr>\n",
       "  </thead>\n",
       "  <tbody>\n",
       "    <tr>\n",
       "      <th>0</th>\n",
       "      <td>130406588</td>\n",
       "      <td>0</td>\n",
       "    </tr>\n",
       "    <tr>\n",
       "      <th>1</th>\n",
       "      <td>130822075</td>\n",
       "      <td>0</td>\n",
       "    </tr>\n",
       "    <tr>\n",
       "      <th>2</th>\n",
       "      <td>130465387</td>\n",
       "      <td>0</td>\n",
       "    </tr>\n",
       "    <tr>\n",
       "      <th>3</th>\n",
       "      <td>130073785</td>\n",
       "      <td>0</td>\n",
       "    </tr>\n",
       "    <tr>\n",
       "      <th>4</th>\n",
       "      <td>130445775</td>\n",
       "      <td>0</td>\n",
       "    </tr>\n",
       "  </tbody>\n",
       "</table>\n",
       "</div>"
      ],
      "text/plain": [
       "       CT_ID  CT_FLAG_FRAUD\n",
       "0  130406588              0\n",
       "1  130822075              0\n",
       "2  130465387              0\n",
       "3  130073785              0\n",
       "4  130445775              0"
      ]
     },
     "execution_count": 18,
     "metadata": {},
     "output_type": "execute_result"
    }
   ],
   "source": [
    "df_weekday.head(5).collect()"
   ]
  },
  {
   "cell_type": "code",
   "execution_count": 19,
   "metadata": {},
   "outputs": [
    {
     "data": {
      "text/plain": [
       "378401"
      ]
     },
     "execution_count": 19,
     "metadata": {},
     "output_type": "execute_result"
    }
   ],
   "source": [
    "df_weekday.count()"
   ]
  },
  {
   "cell_type": "code",
   "execution_count": 20,
   "metadata": {},
   "outputs": [],
   "source": [
    "df_weekday_sample, df_weekday_ignore1, df_weekday_ignore2 = partition.train_test_val_split(\n",
    "                               data = df_weekday, \n",
    "                               random_seed = 4242,\n",
    "                               training_percentage = 0.05, \n",
    "                               testing_percentage = 0.50, \n",
    "                               validation_percentage = 0.45)"
   ]
  },
  {
   "cell_type": "code",
   "execution_count": 21,
   "metadata": {},
   "outputs": [
    {
     "data": {
      "text/plain": [
       "18920"
      ]
     },
     "execution_count": 21,
     "metadata": {},
     "output_type": "execute_result"
    }
   ],
   "source": [
    "df_weekday_sample.count()"
   ]
  },
  {
   "cell_type": "markdown",
   "metadata": {},
   "source": [
    "For these subset of transactions - 5% of the weekend transactions are set to fraud compared to 2% during the rest of the week days"
   ]
  },
  {
   "cell_type": "markdown",
   "metadata": {},
   "source": [
    "### Inspect fraud percentage when average spend is higher in July compared to before that per customer"
   ]
  },
  {
   "cell_type": "code",
   "execution_count": 22,
   "metadata": {},
   "outputs": [],
   "source": [
    "df_avg_spend_july = conn.sql(\"select CT_ID, CT_FLAG_FRAUD from ( \\\n",
    "select t.*, case when c.AVG_SPEND_2020 = 0 then 0 else round(t.CT_AMOUNT / c.AVG_SPEND_2020, 2) end as RATIO_AMOUNT_AVG_SPEND_2020 \\\n",
    "from BIUSER.CARD_TRANSACTIONS_JULY_2020 t, \\\n",
    "( \\\n",
    "select CT_CUST_ID, avg(CT_AMOUNT) as AVG_SPEND_2020 \\\n",
    "from SOURCEDATA.VT_CARD_TRANSACTIONS \\\n",
    "where CT_DATE < '2020-07-01' \\\n",
    "group by CT_CUST_ID \\\n",
    ") c \\\n",
    "where t.CT_CUST_ID = c.CT_CUST_ID \\\n",
    ") \\\n",
    "where RATIO_AMOUNT_AVG_SPEND_2020 >= 2 and CT_FLAG_FRAUD = 0\")"
   ]
  },
  {
   "cell_type": "code",
   "execution_count": 23,
   "metadata": {},
   "outputs": [
    {
     "data": {
      "text/plain": [
       "120757"
      ]
     },
     "execution_count": 23,
     "metadata": {},
     "output_type": "execute_result"
    }
   ],
   "source": [
    "df_avg_spend_july.count()"
   ]
  },
  {
   "cell_type": "code",
   "execution_count": 24,
   "metadata": {},
   "outputs": [],
   "source": [
    "df_avg_spend_july_sample, df_avg_spend_july_ignore1, df_avg_spend_july_ignore2 = partition.train_test_val_split(\n",
    "                               data = df_avg_spend_july, \n",
    "                               random_seed = 4242,\n",
    "                               training_percentage = 0.20, \n",
    "                               testing_percentage = 0.50, \n",
    "                               validation_percentage = 0.30)"
   ]
  },
  {
   "cell_type": "code",
   "execution_count": 25,
   "metadata": {},
   "outputs": [
    {
     "data": {
      "text/plain": [
       "24151"
      ]
     },
     "execution_count": 25,
     "metadata": {},
     "output_type": "execute_result"
    }
   ],
   "source": [
    "df_avg_spend_july_sample.count()"
   ]
  },
  {
   "cell_type": "markdown",
   "metadata": {},
   "source": [
    "For these 20% of transactions with more than double the previous average spend, we can consider them fraud."
   ]
  },
  {
   "cell_type": "markdown",
   "metadata": {},
   "source": [
    "### Inspect fraud percentage when there is more spend per transaction compared to customer average or lifetime spend, and income"
   ]
  },
  {
   "cell_type": "code",
   "execution_count": 26,
   "metadata": {},
   "outputs": [],
   "source": [
    "df_customer = conn.sql(\"select CT_ID, CT_FLAG_FRAUD \\\n",
    "from ( \\\n",
    "select t.*, \\\n",
    "case when c.CUST_AVG_SPEND = 0 then 0 else round(t.CT_AMOUNT / c.CUST_AVG_SPEND, 2) end as RATIO_AMOUNT_AVG_SPEND, \\\n",
    "case when c.CUST_LIFE_SPEND = 0 then 0 else round(t.CT_AMOUNT / c.CUST_LIFE_SPEND, 2) end as RATIO_AMOUNT_LIFE_SPEND, \\\n",
    "case when c.CUST_INCOME = 0 then 0 else round(t.CT_AMOUNT / c.CUST_INCOME, 2) end as RATIO_AMOUNT_INCOME \\\n",
    "from BIUSER.CARD_TRANSACTIONS_JULY_2020 t, SOURCEDATA.CUSTOMER c \\\n",
    "where t.CT_CUST_ID = c.CUST_ID \\\n",
    ") \\\n",
    "where ( RATIO_AMOUNT_AVG_SPEND > 0.25 or RATIO_AMOUNT_LIFE_SPEND > 0.05 or RATIO_AMOUNT_INCOME > 0.25) and CT_FLAG_FRAUD = 0\")"
   ]
  },
  {
   "cell_type": "code",
   "execution_count": 27,
   "metadata": {},
   "outputs": [
    {
     "data": {
      "text/plain": [
       "24020"
      ]
     },
     "execution_count": 27,
     "metadata": {},
     "output_type": "execute_result"
    }
   ],
   "source": [
    "df_customer.count()"
   ]
  },
  {
   "cell_type": "code",
   "execution_count": 28,
   "metadata": {},
   "outputs": [],
   "source": [
    "df_customer_sample, df_customer_ignore1, df_customer_ignore2 = partition.train_test_val_split(\n",
    "                               data = df_customer, \n",
    "                               random_seed = 4242,\n",
    "                               training_percentage = 0.25, \n",
    "                               testing_percentage = 0.50, \n",
    "                               validation_percentage = 0.25)"
   ]
  },
  {
   "cell_type": "code",
   "execution_count": 29,
   "metadata": {},
   "outputs": [
    {
     "data": {
      "text/plain": [
       "6005"
      ]
     },
     "execution_count": 29,
     "metadata": {},
     "output_type": "execute_result"
    }
   ],
   "source": [
    "df_customer_sample.count()"
   ]
  },
  {
   "cell_type": "markdown",
   "metadata": {},
   "source": [
    "### Inspect fraud percentage when there is increased spend compared to card limit"
   ]
  },
  {
   "cell_type": "code",
   "execution_count": 30,
   "metadata": {},
   "outputs": [],
   "source": [
    "df_card = conn.sql(\"select CT_ID, CT_FLAG_FRAUD \\\n",
    "from ( \\\n",
    "select t.*, CARD_INTERNATIONAL, \\\n",
    "case when c.CARD_LIMIT = 0 then 0 else round(t.CT_AMOUNT / c.CARD_LIMIT, 2) end as RATIO_AMOUNT_LIMIT \\\n",
    "from BIUSER.CARD_TRANSACTIONS_JULY_2020 t, SOURCEDATA.CARD c \\\n",
    "where t.CT_CUST_ID = c.CARD_ID \\\n",
    ") \\\n",
    "where RATIO_AMOUNT_LIMIT > 0.10 or CARD_INTERNATIONAL = 1\")"
   ]
  },
  {
   "cell_type": "code",
   "execution_count": 31,
   "metadata": {},
   "outputs": [
    {
     "data": {
      "text/plain": [
       "510243"
      ]
     },
     "execution_count": 31,
     "metadata": {},
     "output_type": "execute_result"
    }
   ],
   "source": [
    "df_card.count()"
   ]
  },
  {
   "cell_type": "code",
   "execution_count": 32,
   "metadata": {},
   "outputs": [],
   "source": [
    "df_card_sample, df_card_ignore1, df_card_ignore2 = partition.train_test_val_split(\n",
    "                               data = df_card, \n",
    "                               random_seed = 4242,\n",
    "                               training_percentage = 0.05, \n",
    "                               testing_percentage = 0.50, \n",
    "                               validation_percentage = 0.45)"
   ]
  },
  {
   "cell_type": "code",
   "execution_count": 33,
   "metadata": {},
   "outputs": [
    {
     "data": {
      "text/plain": [
       "25512"
      ]
     },
     "execution_count": 33,
     "metadata": {},
     "output_type": "execute_result"
    }
   ],
   "source": [
    "df_card_sample.count()"
   ]
  },
  {
   "cell_type": "markdown",
   "metadata": {},
   "source": [
    "For these subset of transactions - 5% of the high amount or international transactions are set to fraud compared to 2% for the rest of them."
   ]
  },
  {
   "cell_type": "markdown",
   "metadata": {},
   "source": [
    "### Inspect fraud percentage when a customer suddenly uses a card at a virtual store in July without previous such history"
   ]
  },
  {
   "cell_type": "code",
   "execution_count": 34,
   "metadata": {},
   "outputs": [],
   "source": [
    "df_virtual = conn.sql(\"select CT_ID, CT_FLAG_FRAUD \\\n",
    "from ( \\\n",
    "select t.* \\\n",
    "from BIUSER.CARD_TRANSACTIONS_JULY_2020 t, SOURCEDATA.MERCHANT_CA tm \\\n",
    "where  \\\n",
    "t.CT_MER_ID = tm.MER_ID \\\n",
    "and tm.MER_FLAG_VIRTUAL_STORE not in \\\n",
    "( \\\n",
    "select distinct MER_FLAG_VIRTUAL_STORE as CUST_MERCHANTS \\\n",
    "from SOURCEDATA.VT_CARD_TRANSACTIONS c, SOURCEDATA.MERCHANT_CA m \\\n",
    "where c.CT_DATE < '2020-07-01' \\\n",
    "and c.CT_MER_ID = m.MER_ID \\\n",
    "and CT_CUST_ID = t.CT_CUST_ID \\\n",
    ") \\\n",
    ")\")"
   ]
  },
  {
   "cell_type": "code",
   "execution_count": 35,
   "metadata": {},
   "outputs": [
    {
     "data": {
      "text/plain": [
       "725"
      ]
     },
     "execution_count": 35,
     "metadata": {},
     "output_type": "execute_result"
    }
   ],
   "source": [
    "df_virtual.count()"
   ]
  },
  {
   "cell_type": "markdown",
   "metadata": {},
   "source": [
    "### Inspect fraud percentage when a customer suddenly uses a card at a new merchant segment in July without previous such history"
   ]
  },
  {
   "cell_type": "code",
   "execution_count": 36,
   "metadata": {},
   "outputs": [],
   "source": [
    "df_merchant = conn.sql(\"select CT_ID, CT_FLAG_FRAUD from ( select t.* from BIUSER.CARD_TRANSACTIONS_JULY_2020 t, SOURCEDATA.MERCHANT_CA tm \\\n",
    "where t.CT_MER_ID = tm.MER_ID and tm.MER_SEGMENT not in \\\n",
    "( select distinct MER_SEGMENT as CUST_MERCHANTS from SOURCEDATA.VT_CARD_TRANSACTIONS c, SOURCEDATA.MERCHANT_CA m \\\n",
    "where c.CT_DATE < '2020-07-01' and c.CT_MER_ID = m.MER_ID and CT_CUST_ID = t.CT_CUST_ID ))\")"
   ]
  },
  {
   "cell_type": "code",
   "execution_count": 37,
   "metadata": {},
   "outputs": [
    {
     "data": {
      "text/plain": [
       "6293"
      ]
     },
     "execution_count": 37,
     "metadata": {},
     "output_type": "execute_result"
    }
   ],
   "source": [
    "df_merchant.count()"
   ]
  },
  {
   "cell_type": "markdown",
   "metadata": {},
   "source": [
    "### Combine all the cases where fraud flag needs to be updated"
   ]
  },
  {
   "cell_type": "code",
   "execution_count": 38,
   "metadata": {},
   "outputs": [],
   "source": [
    "df_final = df_hour_physical_sample.union(df_weekday_sample).union(df_avg_spend_july_sample).union(df_customer_sample).union(df_card_sample).union(df_virtual).union(df_merchant)\n"
   ]
  },
  {
   "cell_type": "code",
   "execution_count": 39,
   "metadata": {},
   "outputs": [
    {
     "data": {
      "text/plain": [
       "123721"
      ]
     },
     "execution_count": 39,
     "metadata": {},
     "output_type": "execute_result"
    }
   ],
   "source": [
    "df_final.count()"
   ]
  },
  {
   "cell_type": "markdown",
   "metadata": {},
   "source": [
    "### Save the new subset of data as a table in HANA\n",
    "In this notebook new fraud cases were created, and we will update the original BIUSER.CARD_TRANSACTIONS_JULY_2020 table with the new cases."
   ]
  },
  {
   "cell_type": "code",
   "execution_count": 40,
   "metadata": {},
   "outputs": [],
   "source": [
    "df_pushdown_result = df_final.save(where = ('BIUSER', 'CARD_IDS_FRAUD_JULY_2020'), force = True)"
   ]
  },
  {
   "cell_type": "markdown",
   "metadata": {},
   "source": [
    "The following SQL command was run on the HANA Cloud database using WebIDE\n",
    "\"UPDATE BIUSER.CARD_TRANSACTIONS_JULY_2020 set CT_FLAG_FRAUD = 1 where CT_ID in (select CT_ID from BIUSER.CARD_IDS_FRAUD_JULY_2020);\""
   ]
  },
  {
   "cell_type": "markdown",
   "metadata": {},
   "source": [
    "### Close connection"
   ]
  },
  {
   "cell_type": "code",
   "execution_count": 41,
   "metadata": {},
   "outputs": [],
   "source": [
    "conn.close()"
   ]
  }
 ],
 "metadata": {
  "createdAt": "2019-05-03T16:54:54Z",
  "description": "First look at the data. Impute missing values.",
  "kernelspec": {
   "display_name": "Python 3",
   "language": "python",
   "name": "python3"
  },
  "language_info": {
   "codemirror_mode": {
    "name": "ipython",
    "version": 3
   },
   "file_extension": ".py",
   "mimetype": "text/x-python",
   "name": "python",
   "nbconvert_exporter": "python",
   "pygments_lexer": "ipython3",
   "version": "3.8.3"
  },
  "modifiedAt": "2019-05-03T16:54:54Z",
  "name": "10 First EDA and Imputation",
  "rating": 0,
  "scenarioId": "3bd5ee44-92b1-4224-95dc-4e688a637e85"
 },
 "nbformat": 4,
 "nbformat_minor": 4
}
